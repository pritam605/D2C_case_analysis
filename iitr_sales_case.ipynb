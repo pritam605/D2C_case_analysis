{
 "cells": [
  {
   "cell_type": "code",
   "execution_count": 123,
   "id": "6c9a2eda",
   "metadata": {},
   "outputs": [],
   "source": [
    "import pandas as pd\n",
    "import numpy as np\n",
    "import matplotlib.pyplot as plt\n",
    "import seaborn as sns\n",
    "from sklearn.preprocessing import LabelEncoder\n",
    "from sklearn.linear_model import LinearRegression\n",
    "\n",
    "%matplotlib inline"
   ]
  },
  {
   "cell_type": "code",
   "execution_count": 124,
   "id": "535272a0",
   "metadata": {},
   "outputs": [],
   "source": [
    "train=pd.read_csv(r'C:\\Users\\Meteora\\Downloads\\IITR_case_study_sales\\Train.csv')\n",
    "test=pd.read_csv(r'C:\\Users\\Meteora\\Downloads\\IITR_case_study_sales\\Test.csv')"
   ]
  },
  {
   "cell_type": "code",
   "execution_count": 125,
   "id": "fc2c6d93",
   "metadata": {},
   "outputs": [
    {
     "name": "stdout",
     "output_type": "stream",
     "text": [
      "(8523, 12)\n",
      "(5681, 11)\n"
     ]
    }
   ],
   "source": [
    "print(train.shape)\n",
    "print(test.shape)"
   ]
  },
  {
   "cell_type": "code",
   "execution_count": 126,
   "id": "3a8b350c",
   "metadata": {},
   "outputs": [
    {
     "data": {
      "text/html": [
       "<div>\n",
       "<style scoped>\n",
       "    .dataframe tbody tr th:only-of-type {\n",
       "        vertical-align: middle;\n",
       "    }\n",
       "\n",
       "    .dataframe tbody tr th {\n",
       "        vertical-align: top;\n",
       "    }\n",
       "\n",
       "    .dataframe thead th {\n",
       "        text-align: right;\n",
       "    }\n",
       "</style>\n",
       "<table border=\"1\" class=\"dataframe\">\n",
       "  <thead>\n",
       "    <tr style=\"text-align: right;\">\n",
       "      <th></th>\n",
       "      <th>Item_Weight</th>\n",
       "      <th>Item_Visibility</th>\n",
       "      <th>Item_MRP</th>\n",
       "      <th>Outlet_Establishment_Year</th>\n",
       "      <th>Item_Outlet_Sales</th>\n",
       "    </tr>\n",
       "  </thead>\n",
       "  <tbody>\n",
       "    <tr>\n",
       "      <th>count</th>\n",
       "      <td>7060.000000</td>\n",
       "      <td>8523.000000</td>\n",
       "      <td>8523.000000</td>\n",
       "      <td>8523.000000</td>\n",
       "      <td>8523.000000</td>\n",
       "    </tr>\n",
       "    <tr>\n",
       "      <th>mean</th>\n",
       "      <td>12.857645</td>\n",
       "      <td>0.066132</td>\n",
       "      <td>140.992782</td>\n",
       "      <td>1997.831867</td>\n",
       "      <td>2181.288914</td>\n",
       "    </tr>\n",
       "    <tr>\n",
       "      <th>std</th>\n",
       "      <td>4.643456</td>\n",
       "      <td>0.051598</td>\n",
       "      <td>62.275067</td>\n",
       "      <td>8.371760</td>\n",
       "      <td>1706.499616</td>\n",
       "    </tr>\n",
       "    <tr>\n",
       "      <th>min</th>\n",
       "      <td>4.555000</td>\n",
       "      <td>0.000000</td>\n",
       "      <td>31.290000</td>\n",
       "      <td>1985.000000</td>\n",
       "      <td>33.290000</td>\n",
       "    </tr>\n",
       "    <tr>\n",
       "      <th>25%</th>\n",
       "      <td>8.773750</td>\n",
       "      <td>0.026989</td>\n",
       "      <td>93.826500</td>\n",
       "      <td>1987.000000</td>\n",
       "      <td>834.247400</td>\n",
       "    </tr>\n",
       "    <tr>\n",
       "      <th>50%</th>\n",
       "      <td>12.600000</td>\n",
       "      <td>0.053931</td>\n",
       "      <td>143.012800</td>\n",
       "      <td>1999.000000</td>\n",
       "      <td>1794.331000</td>\n",
       "    </tr>\n",
       "    <tr>\n",
       "      <th>75%</th>\n",
       "      <td>16.850000</td>\n",
       "      <td>0.094585</td>\n",
       "      <td>185.643700</td>\n",
       "      <td>2004.000000</td>\n",
       "      <td>3101.296400</td>\n",
       "    </tr>\n",
       "    <tr>\n",
       "      <th>max</th>\n",
       "      <td>21.350000</td>\n",
       "      <td>0.328391</td>\n",
       "      <td>266.888400</td>\n",
       "      <td>2009.000000</td>\n",
       "      <td>13086.964800</td>\n",
       "    </tr>\n",
       "  </tbody>\n",
       "</table>\n",
       "</div>"
      ],
      "text/plain": [
       "       Item_Weight  Item_Visibility     Item_MRP  Outlet_Establishment_Year  \\\n",
       "count  7060.000000      8523.000000  8523.000000                8523.000000   \n",
       "mean     12.857645         0.066132   140.992782                1997.831867   \n",
       "std       4.643456         0.051598    62.275067                   8.371760   \n",
       "min       4.555000         0.000000    31.290000                1985.000000   \n",
       "25%       8.773750         0.026989    93.826500                1987.000000   \n",
       "50%      12.600000         0.053931   143.012800                1999.000000   \n",
       "75%      16.850000         0.094585   185.643700                2004.000000   \n",
       "max      21.350000         0.328391   266.888400                2009.000000   \n",
       "\n",
       "       Item_Outlet_Sales  \n",
       "count        8523.000000  \n",
       "mean         2181.288914  \n",
       "std          1706.499616  \n",
       "min            33.290000  \n",
       "25%           834.247400  \n",
       "50%          1794.331000  \n",
       "75%          3101.296400  \n",
       "max         13086.964800  "
      ]
     },
     "execution_count": 126,
     "metadata": {},
     "output_type": "execute_result"
    }
   ],
   "source": [
    "train.describe()"
   ]
  },
  {
   "cell_type": "markdown",
   "id": "5abc96e3",
   "metadata": {},
   "source": [
    "Out of 12 features, 5 are numeric and rest 7 are categorical.\n",
    "\n",
    "25% quantile : The value at which 25% of the actual record is below that figure. "
   ]
  },
  {
   "cell_type": "code",
   "execution_count": 127,
   "id": "138a7708",
   "metadata": {},
   "outputs": [
    {
     "data": {
      "text/html": [
       "<div>\n",
       "<style scoped>\n",
       "    .dataframe tbody tr th:only-of-type {\n",
       "        vertical-align: middle;\n",
       "    }\n",
       "\n",
       "    .dataframe tbody tr th {\n",
       "        vertical-align: top;\n",
       "    }\n",
       "\n",
       "    .dataframe thead th {\n",
       "        text-align: right;\n",
       "    }\n",
       "</style>\n",
       "<table border=\"1\" class=\"dataframe\">\n",
       "  <thead>\n",
       "    <tr style=\"text-align: right;\">\n",
       "      <th></th>\n",
       "      <th>Item_Weight</th>\n",
       "      <th>Item_Visibility</th>\n",
       "      <th>Item_MRP</th>\n",
       "      <th>Outlet_Establishment_Year</th>\n",
       "    </tr>\n",
       "  </thead>\n",
       "  <tbody>\n",
       "    <tr>\n",
       "      <th>count</th>\n",
       "      <td>4705.000000</td>\n",
       "      <td>5681.000000</td>\n",
       "      <td>5681.000000</td>\n",
       "      <td>5681.000000</td>\n",
       "    </tr>\n",
       "    <tr>\n",
       "      <th>mean</th>\n",
       "      <td>12.695633</td>\n",
       "      <td>0.065684</td>\n",
       "      <td>141.023273</td>\n",
       "      <td>1997.828903</td>\n",
       "    </tr>\n",
       "    <tr>\n",
       "      <th>std</th>\n",
       "      <td>4.664849</td>\n",
       "      <td>0.051252</td>\n",
       "      <td>61.809091</td>\n",
       "      <td>8.372256</td>\n",
       "    </tr>\n",
       "    <tr>\n",
       "      <th>min</th>\n",
       "      <td>4.555000</td>\n",
       "      <td>0.000000</td>\n",
       "      <td>31.990000</td>\n",
       "      <td>1985.000000</td>\n",
       "    </tr>\n",
       "    <tr>\n",
       "      <th>25%</th>\n",
       "      <td>8.645000</td>\n",
       "      <td>0.027047</td>\n",
       "      <td>94.412000</td>\n",
       "      <td>1987.000000</td>\n",
       "    </tr>\n",
       "    <tr>\n",
       "      <th>50%</th>\n",
       "      <td>12.500000</td>\n",
       "      <td>0.054154</td>\n",
       "      <td>141.415400</td>\n",
       "      <td>1999.000000</td>\n",
       "    </tr>\n",
       "    <tr>\n",
       "      <th>75%</th>\n",
       "      <td>16.700000</td>\n",
       "      <td>0.093463</td>\n",
       "      <td>186.026600</td>\n",
       "      <td>2004.000000</td>\n",
       "    </tr>\n",
       "    <tr>\n",
       "      <th>max</th>\n",
       "      <td>21.350000</td>\n",
       "      <td>0.323637</td>\n",
       "      <td>266.588400</td>\n",
       "      <td>2009.000000</td>\n",
       "    </tr>\n",
       "  </tbody>\n",
       "</table>\n",
       "</div>"
      ],
      "text/plain": [
       "       Item_Weight  Item_Visibility     Item_MRP  Outlet_Establishment_Year\n",
       "count  4705.000000      5681.000000  5681.000000                5681.000000\n",
       "mean     12.695633         0.065684   141.023273                1997.828903\n",
       "std       4.664849         0.051252    61.809091                   8.372256\n",
       "min       4.555000         0.000000    31.990000                1985.000000\n",
       "25%       8.645000         0.027047    94.412000                1987.000000\n",
       "50%      12.500000         0.054154   141.415400                1999.000000\n",
       "75%      16.700000         0.093463   186.026600                2004.000000\n",
       "max      21.350000         0.323637   266.588400                2009.000000"
      ]
     },
     "execution_count": 127,
     "metadata": {},
     "output_type": "execute_result"
    }
   ],
   "source": [
    "test.describe()"
   ]
  },
  {
   "cell_type": "code",
   "execution_count": 128,
   "id": "b5256cf1",
   "metadata": {},
   "outputs": [
    {
     "data": {
      "text/html": [
       "<div>\n",
       "<style scoped>\n",
       "    .dataframe tbody tr th:only-of-type {\n",
       "        vertical-align: middle;\n",
       "    }\n",
       "\n",
       "    .dataframe tbody tr th {\n",
       "        vertical-align: top;\n",
       "    }\n",
       "\n",
       "    .dataframe thead th {\n",
       "        text-align: right;\n",
       "    }\n",
       "</style>\n",
       "<table border=\"1\" class=\"dataframe\">\n",
       "  <thead>\n",
       "    <tr style=\"text-align: right;\">\n",
       "      <th></th>\n",
       "      <th>Item_Identifier</th>\n",
       "      <th>Item_Weight</th>\n",
       "      <th>Item_Fat_Content</th>\n",
       "      <th>Item_Visibility</th>\n",
       "      <th>Item_Type</th>\n",
       "      <th>Item_MRP</th>\n",
       "      <th>Outlet_Identifier</th>\n",
       "      <th>Outlet_Establishment_Year</th>\n",
       "      <th>Outlet_Size</th>\n",
       "      <th>Outlet_Location_Type</th>\n",
       "      <th>Outlet_Type</th>\n",
       "      <th>Item_Outlet_Sales</th>\n",
       "    </tr>\n",
       "  </thead>\n",
       "  <tbody>\n",
       "    <tr>\n",
       "      <th>0</th>\n",
       "      <td>FDA15</td>\n",
       "      <td>9.30</td>\n",
       "      <td>Low Fat</td>\n",
       "      <td>0.016047</td>\n",
       "      <td>Dairy</td>\n",
       "      <td>249.8092</td>\n",
       "      <td>OUT049</td>\n",
       "      <td>1999</td>\n",
       "      <td>Medium</td>\n",
       "      <td>Tier 1</td>\n",
       "      <td>Supermarket Type1</td>\n",
       "      <td>3735.1380</td>\n",
       "    </tr>\n",
       "    <tr>\n",
       "      <th>1</th>\n",
       "      <td>DRC01</td>\n",
       "      <td>5.92</td>\n",
       "      <td>Regular</td>\n",
       "      <td>0.019278</td>\n",
       "      <td>Soft Drinks</td>\n",
       "      <td>48.2692</td>\n",
       "      <td>OUT018</td>\n",
       "      <td>2009</td>\n",
       "      <td>Medium</td>\n",
       "      <td>Tier 3</td>\n",
       "      <td>Supermarket Type2</td>\n",
       "      <td>443.4228</td>\n",
       "    </tr>\n",
       "    <tr>\n",
       "      <th>2</th>\n",
       "      <td>FDN15</td>\n",
       "      <td>17.50</td>\n",
       "      <td>Low Fat</td>\n",
       "      <td>0.016760</td>\n",
       "      <td>Meat</td>\n",
       "      <td>141.6180</td>\n",
       "      <td>OUT049</td>\n",
       "      <td>1999</td>\n",
       "      <td>Medium</td>\n",
       "      <td>Tier 1</td>\n",
       "      <td>Supermarket Type1</td>\n",
       "      <td>2097.2700</td>\n",
       "    </tr>\n",
       "    <tr>\n",
       "      <th>3</th>\n",
       "      <td>FDX07</td>\n",
       "      <td>19.20</td>\n",
       "      <td>Regular</td>\n",
       "      <td>0.000000</td>\n",
       "      <td>Fruits and Vegetables</td>\n",
       "      <td>182.0950</td>\n",
       "      <td>OUT010</td>\n",
       "      <td>1998</td>\n",
       "      <td>NaN</td>\n",
       "      <td>Tier 3</td>\n",
       "      <td>Grocery Store</td>\n",
       "      <td>732.3800</td>\n",
       "    </tr>\n",
       "    <tr>\n",
       "      <th>4</th>\n",
       "      <td>NCD19</td>\n",
       "      <td>8.93</td>\n",
       "      <td>Low Fat</td>\n",
       "      <td>0.000000</td>\n",
       "      <td>Household</td>\n",
       "      <td>53.8614</td>\n",
       "      <td>OUT013</td>\n",
       "      <td>1987</td>\n",
       "      <td>High</td>\n",
       "      <td>Tier 3</td>\n",
       "      <td>Supermarket Type1</td>\n",
       "      <td>994.7052</td>\n",
       "    </tr>\n",
       "  </tbody>\n",
       "</table>\n",
       "</div>"
      ],
      "text/plain": [
       "  Item_Identifier  Item_Weight Item_Fat_Content  Item_Visibility  \\\n",
       "0           FDA15         9.30          Low Fat         0.016047   \n",
       "1           DRC01         5.92          Regular         0.019278   \n",
       "2           FDN15        17.50          Low Fat         0.016760   \n",
       "3           FDX07        19.20          Regular         0.000000   \n",
       "4           NCD19         8.93          Low Fat         0.000000   \n",
       "\n",
       "               Item_Type  Item_MRP Outlet_Identifier  \\\n",
       "0                  Dairy  249.8092            OUT049   \n",
       "1            Soft Drinks   48.2692            OUT018   \n",
       "2                   Meat  141.6180            OUT049   \n",
       "3  Fruits and Vegetables  182.0950            OUT010   \n",
       "4              Household   53.8614            OUT013   \n",
       "\n",
       "   Outlet_Establishment_Year Outlet_Size Outlet_Location_Type  \\\n",
       "0                       1999      Medium               Tier 1   \n",
       "1                       2009      Medium               Tier 3   \n",
       "2                       1999      Medium               Tier 1   \n",
       "3                       1998         NaN               Tier 3   \n",
       "4                       1987        High               Tier 3   \n",
       "\n",
       "         Outlet_Type  Item_Outlet_Sales  \n",
       "0  Supermarket Type1          3735.1380  \n",
       "1  Supermarket Type2           443.4228  \n",
       "2  Supermarket Type1          2097.2700  \n",
       "3      Grocery Store           732.3800  \n",
       "4  Supermarket Type1           994.7052  "
      ]
     },
     "execution_count": 128,
     "metadata": {},
     "output_type": "execute_result"
    }
   ],
   "source": [
    "train.head(5)"
   ]
  },
  {
   "cell_type": "code",
   "execution_count": 129,
   "id": "0cde6aa2",
   "metadata": {},
   "outputs": [
    {
     "data": {
      "text/plain": [
       "Index(['Item_Identifier', 'Item_Weight', 'Item_Fat_Content', 'Item_Visibility',\n",
       "       'Item_Type', 'Item_MRP', 'Outlet_Identifier',\n",
       "       'Outlet_Establishment_Year', 'Outlet_Size', 'Outlet_Location_Type',\n",
       "       'Outlet_Type', 'Item_Outlet_Sales'],\n",
       "      dtype='object')"
      ]
     },
     "execution_count": 129,
     "metadata": {},
     "output_type": "execute_result"
    }
   ],
   "source": [
    "train.columns"
   ]
  },
  {
   "cell_type": "code",
   "execution_count": 130,
   "id": "2b3d431e",
   "metadata": {},
   "outputs": [
    {
     "data": {
      "text/plain": [
       "Index(['Item_Identifier', 'Item_Weight', 'Item_Fat_Content', 'Item_Visibility',\n",
       "       'Item_Type', 'Item_MRP', 'Outlet_Identifier',\n",
       "       'Outlet_Establishment_Year', 'Outlet_Size', 'Outlet_Location_Type',\n",
       "       'Outlet_Type'],\n",
       "      dtype='object')"
      ]
     },
     "execution_count": 130,
     "metadata": {},
     "output_type": "execute_result"
    }
   ],
   "source": [
    "test.columns"
   ]
  },
  {
   "cell_type": "code",
   "execution_count": 131,
   "id": "f9d94229",
   "metadata": {},
   "outputs": [
    {
     "data": {
      "text/plain": [
       "Item_Identifier                 0\n",
       "Item_Weight                  1463\n",
       "Item_Fat_Content                0\n",
       "Item_Visibility                 0\n",
       "Item_Type                       0\n",
       "Item_MRP                        0\n",
       "Outlet_Identifier               0\n",
       "Outlet_Establishment_Year       0\n",
       "Outlet_Size                  2410\n",
       "Outlet_Location_Type            0\n",
       "Outlet_Type                     0\n",
       "Item_Outlet_Sales               0\n",
       "dtype: int64"
      ]
     },
     "execution_count": 131,
     "metadata": {},
     "output_type": "execute_result"
    }
   ],
   "source": [
    "train.isnull( ).sum( )\n",
    "#train.describe()"
   ]
  },
  {
   "cell_type": "code",
   "execution_count": 132,
   "id": "7494bf25",
   "metadata": {},
   "outputs": [
    {
     "data": {
      "text/plain": [
       "Item_Identifier                 0\n",
       "Item_Weight                   976\n",
       "Item_Fat_Content                0\n",
       "Item_Visibility                 0\n",
       "Item_Type                       0\n",
       "Item_MRP                        0\n",
       "Outlet_Identifier               0\n",
       "Outlet_Establishment_Year       0\n",
       "Outlet_Size                  1606\n",
       "Outlet_Location_Type            0\n",
       "Outlet_Type                     0\n",
       "dtype: int64"
      ]
     },
     "execution_count": 132,
     "metadata": {},
     "output_type": "execute_result"
    }
   ],
   "source": [
    "test.isnull().sum()"
   ]
  },
  {
   "cell_type": "markdown",
   "id": "b348fe82",
   "metadata": {},
   "source": [
    "The dataframe contains null features. Item Weight and Outlet Size "
   ]
  },
  {
   "cell_type": "code",
   "execution_count": 133,
   "id": "0a1f5c34",
   "metadata": {},
   "outputs": [
    {
     "name": "stdout",
     "output_type": "stream",
     "text": [
      "Outlet Size: 6113\n",
      "Outlet unique values: 3\n",
      "Outlet unique values: object\n"
     ]
    }
   ],
   "source": [
    "print(f'Outlet Size: {train.Outlet_Size.count()}')\n",
    "print(f'Outlet unique values: {train.Outlet_Size.nunique()}')\n",
    "print(f'Outlet unique values: {train.Outlet_Size.dtype}')"
   ]
  },
  {
   "cell_type": "code",
   "execution_count": 134,
   "id": "c70599ac",
   "metadata": {},
   "outputs": [
    {
     "data": {
      "text/html": [
       "<div>\n",
       "<style scoped>\n",
       "    .dataframe tbody tr th:only-of-type {\n",
       "        vertical-align: middle;\n",
       "    }\n",
       "\n",
       "    .dataframe tbody tr th {\n",
       "        vertical-align: top;\n",
       "    }\n",
       "\n",
       "    .dataframe thead th {\n",
       "        text-align: right;\n",
       "    }\n",
       "</style>\n",
       "<table border=\"1\" class=\"dataframe\">\n",
       "  <thead>\n",
       "    <tr style=\"text-align: right;\">\n",
       "      <th></th>\n",
       "      <th>Outlet_Size</th>\n",
       "    </tr>\n",
       "    <tr>\n",
       "      <th>Outlet_Identifier</th>\n",
       "      <th></th>\n",
       "    </tr>\n",
       "  </thead>\n",
       "  <tbody>\n",
       "    <tr>\n",
       "      <th>OUT010</th>\n",
       "      <td>0</td>\n",
       "    </tr>\n",
       "    <tr>\n",
       "      <th>OUT013</th>\n",
       "      <td>932</td>\n",
       "    </tr>\n",
       "    <tr>\n",
       "      <th>OUT017</th>\n",
       "      <td>0</td>\n",
       "    </tr>\n",
       "    <tr>\n",
       "      <th>OUT018</th>\n",
       "      <td>928</td>\n",
       "    </tr>\n",
       "    <tr>\n",
       "      <th>OUT019</th>\n",
       "      <td>528</td>\n",
       "    </tr>\n",
       "    <tr>\n",
       "      <th>OUT027</th>\n",
       "      <td>935</td>\n",
       "    </tr>\n",
       "    <tr>\n",
       "      <th>OUT035</th>\n",
       "      <td>930</td>\n",
       "    </tr>\n",
       "    <tr>\n",
       "      <th>OUT045</th>\n",
       "      <td>0</td>\n",
       "    </tr>\n",
       "    <tr>\n",
       "      <th>OUT046</th>\n",
       "      <td>930</td>\n",
       "    </tr>\n",
       "    <tr>\n",
       "      <th>OUT049</th>\n",
       "      <td>930</td>\n",
       "    </tr>\n",
       "  </tbody>\n",
       "</table>\n",
       "</div>"
      ],
      "text/plain": [
       "                   Outlet_Size\n",
       "Outlet_Identifier             \n",
       "OUT010                       0\n",
       "OUT013                     932\n",
       "OUT017                       0\n",
       "OUT018                     928\n",
       "OUT019                     528\n",
       "OUT027                     935\n",
       "OUT035                     930\n",
       "OUT045                       0\n",
       "OUT046                     930\n",
       "OUT049                     930"
      ]
     },
     "execution_count": 134,
     "metadata": {},
     "output_type": "execute_result"
    }
   ],
   "source": [
    "train[['Outlet_Size', 'Outlet_Identifier']].groupby(['Outlet_Identifier']).count()"
   ]
  },
  {
   "cell_type": "code",
   "execution_count": 135,
   "id": "aa5f437a",
   "metadata": {},
   "outputs": [
    {
     "data": {
      "text/html": [
       "<div>\n",
       "<style scoped>\n",
       "    .dataframe tbody tr th:only-of-type {\n",
       "        vertical-align: middle;\n",
       "    }\n",
       "\n",
       "    .dataframe tbody tr th {\n",
       "        vertical-align: top;\n",
       "    }\n",
       "\n",
       "    .dataframe thead th {\n",
       "        text-align: right;\n",
       "    }\n",
       "</style>\n",
       "<table border=\"1\" class=\"dataframe\">\n",
       "  <thead>\n",
       "    <tr style=\"text-align: right;\">\n",
       "      <th></th>\n",
       "      <th>Outlet_Size</th>\n",
       "    </tr>\n",
       "    <tr>\n",
       "      <th>Outlet_Identifier</th>\n",
       "      <th></th>\n",
       "    </tr>\n",
       "  </thead>\n",
       "  <tbody>\n",
       "    <tr>\n",
       "      <th>OUT010</th>\n",
       "      <td>0</td>\n",
       "    </tr>\n",
       "    <tr>\n",
       "      <th>OUT013</th>\n",
       "      <td>621</td>\n",
       "    </tr>\n",
       "    <tr>\n",
       "      <th>OUT017</th>\n",
       "      <td>0</td>\n",
       "    </tr>\n",
       "    <tr>\n",
       "      <th>OUT018</th>\n",
       "      <td>618</td>\n",
       "    </tr>\n",
       "    <tr>\n",
       "      <th>OUT019</th>\n",
       "      <td>352</td>\n",
       "    </tr>\n",
       "    <tr>\n",
       "      <th>OUT027</th>\n",
       "      <td>624</td>\n",
       "    </tr>\n",
       "    <tr>\n",
       "      <th>OUT035</th>\n",
       "      <td>620</td>\n",
       "    </tr>\n",
       "    <tr>\n",
       "      <th>OUT045</th>\n",
       "      <td>0</td>\n",
       "    </tr>\n",
       "    <tr>\n",
       "      <th>OUT046</th>\n",
       "      <td>620</td>\n",
       "    </tr>\n",
       "    <tr>\n",
       "      <th>OUT049</th>\n",
       "      <td>620</td>\n",
       "    </tr>\n",
       "  </tbody>\n",
       "</table>\n",
       "</div>"
      ],
      "text/plain": [
       "                   Outlet_Size\n",
       "Outlet_Identifier             \n",
       "OUT010                       0\n",
       "OUT013                     621\n",
       "OUT017                       0\n",
       "OUT018                     618\n",
       "OUT019                     352\n",
       "OUT027                     624\n",
       "OUT035                     620\n",
       "OUT045                       0\n",
       "OUT046                     620\n",
       "OUT049                     620"
      ]
     },
     "execution_count": 135,
     "metadata": {},
     "output_type": "execute_result"
    }
   ],
   "source": [
    "test[['Outlet_Size', 'Outlet_Identifier']].groupby(['Outlet_Identifier']).count()"
   ]
  },
  {
   "cell_type": "code",
   "execution_count": 136,
   "id": "4c185788",
   "metadata": {},
   "outputs": [
    {
     "data": {
      "text/plain": [
       "array(['Grocery Store'], dtype=object)"
      ]
     },
     "execution_count": 136,
     "metadata": {},
     "output_type": "execute_result"
    }
   ],
   "source": [
    "train[train['Outlet_Identifier'] == 'OUT010'].Outlet_Type.unique()"
   ]
  },
  {
   "cell_type": "code",
   "execution_count": 137,
   "id": "e4375e41",
   "metadata": {},
   "outputs": [],
   "source": [
    "#if train[train['Outlet_Identifier'] == 'OUT010'] : \n",
    "#          train['Outlet_Size'].fillna('small', inplace=True)\n",
    "        \n",
    "train.loc[train['Outlet_Identifier'] == 'OUT010','Outlet_Size'] = 'Small'\n",
    "train.loc[train['Outlet_Identifier'] == 'OUT017','Outlet_Size'] = 'Medium'\n",
    "train.loc[train['Outlet_Identifier'] == 'OUT045','Outlet_Size'] = 'Medium'"
   ]
  },
  {
   "cell_type": "code",
   "execution_count": 138,
   "id": "dda8e92e",
   "metadata": {},
   "outputs": [
    {
     "data": {
      "text/html": [
       "<div>\n",
       "<style scoped>\n",
       "    .dataframe tbody tr th:only-of-type {\n",
       "        vertical-align: middle;\n",
       "    }\n",
       "\n",
       "    .dataframe tbody tr th {\n",
       "        vertical-align: top;\n",
       "    }\n",
       "\n",
       "    .dataframe thead th {\n",
       "        text-align: right;\n",
       "    }\n",
       "</style>\n",
       "<table border=\"1\" class=\"dataframe\">\n",
       "  <thead>\n",
       "    <tr style=\"text-align: right;\">\n",
       "      <th></th>\n",
       "      <th>Outlet_Size</th>\n",
       "    </tr>\n",
       "    <tr>\n",
       "      <th>Outlet_Identifier</th>\n",
       "      <th></th>\n",
       "    </tr>\n",
       "  </thead>\n",
       "  <tbody>\n",
       "    <tr>\n",
       "      <th>OUT010</th>\n",
       "      <td>555</td>\n",
       "    </tr>\n",
       "    <tr>\n",
       "      <th>OUT013</th>\n",
       "      <td>932</td>\n",
       "    </tr>\n",
       "    <tr>\n",
       "      <th>OUT017</th>\n",
       "      <td>926</td>\n",
       "    </tr>\n",
       "    <tr>\n",
       "      <th>OUT018</th>\n",
       "      <td>928</td>\n",
       "    </tr>\n",
       "    <tr>\n",
       "      <th>OUT019</th>\n",
       "      <td>528</td>\n",
       "    </tr>\n",
       "    <tr>\n",
       "      <th>OUT027</th>\n",
       "      <td>935</td>\n",
       "    </tr>\n",
       "    <tr>\n",
       "      <th>OUT035</th>\n",
       "      <td>930</td>\n",
       "    </tr>\n",
       "    <tr>\n",
       "      <th>OUT045</th>\n",
       "      <td>929</td>\n",
       "    </tr>\n",
       "    <tr>\n",
       "      <th>OUT046</th>\n",
       "      <td>930</td>\n",
       "    </tr>\n",
       "    <tr>\n",
       "      <th>OUT049</th>\n",
       "      <td>930</td>\n",
       "    </tr>\n",
       "  </tbody>\n",
       "</table>\n",
       "</div>"
      ],
      "text/plain": [
       "                   Outlet_Size\n",
       "Outlet_Identifier             \n",
       "OUT010                     555\n",
       "OUT013                     932\n",
       "OUT017                     926\n",
       "OUT018                     928\n",
       "OUT019                     528\n",
       "OUT027                     935\n",
       "OUT035                     930\n",
       "OUT045                     929\n",
       "OUT046                     930\n",
       "OUT049                     930"
      ]
     },
     "execution_count": 138,
     "metadata": {},
     "output_type": "execute_result"
    }
   ],
   "source": [
    "train[['Outlet_Size', 'Outlet_Identifier']].groupby(['Outlet_Identifier']).count()"
   ]
  },
  {
   "cell_type": "markdown",
   "id": "baa5ccdd",
   "metadata": {},
   "source": [
    "Replaced all the missing Outlet identifier types with their corresponding store sizes "
   ]
  },
  {
   "cell_type": "code",
   "execution_count": 139,
   "id": "cc735042",
   "metadata": {},
   "outputs": [],
   "source": [
    "test.loc[train['Outlet_Identifier'] == 'OUT010','Outlet_Size'] = 'Small'\n",
    "test.loc[train['Outlet_Identifier'] == 'OUT017','Outlet_Size'] = 'Medium'\n",
    "test.loc[train['Outlet_Identifier'] == 'OUT045','Outlet_Size'] = 'Medium'"
   ]
  },
  {
   "cell_type": "code",
   "execution_count": 140,
   "id": "2784bec0",
   "metadata": {},
   "outputs": [
    {
     "data": {
      "text/html": [
       "<div>\n",
       "<style scoped>\n",
       "    .dataframe tbody tr th:only-of-type {\n",
       "        vertical-align: middle;\n",
       "    }\n",
       "\n",
       "    .dataframe tbody tr th {\n",
       "        vertical-align: top;\n",
       "    }\n",
       "\n",
       "    .dataframe thead th {\n",
       "        text-align: right;\n",
       "    }\n",
       "</style>\n",
       "<table border=\"1\" class=\"dataframe\">\n",
       "  <thead>\n",
       "    <tr style=\"text-align: right;\">\n",
       "      <th></th>\n",
       "      <th>Outlet_Size</th>\n",
       "    </tr>\n",
       "    <tr>\n",
       "      <th>Outlet_Identifier</th>\n",
       "      <th></th>\n",
       "    </tr>\n",
       "  </thead>\n",
       "  <tbody>\n",
       "    <tr>\n",
       "      <th>OUT010</th>\n",
       "      <td>96</td>\n",
       "    </tr>\n",
       "    <tr>\n",
       "      <th>OUT013</th>\n",
       "      <td>621</td>\n",
       "    </tr>\n",
       "    <tr>\n",
       "      <th>OUT017</th>\n",
       "      <td>176</td>\n",
       "    </tr>\n",
       "    <tr>\n",
       "      <th>OUT018</th>\n",
       "      <td>618</td>\n",
       "    </tr>\n",
       "    <tr>\n",
       "      <th>OUT019</th>\n",
       "      <td>352</td>\n",
       "    </tr>\n",
       "    <tr>\n",
       "      <th>OUT027</th>\n",
       "      <td>624</td>\n",
       "    </tr>\n",
       "    <tr>\n",
       "      <th>OUT035</th>\n",
       "      <td>620</td>\n",
       "    </tr>\n",
       "    <tr>\n",
       "      <th>OUT045</th>\n",
       "      <td>176</td>\n",
       "    </tr>\n",
       "    <tr>\n",
       "      <th>OUT046</th>\n",
       "      <td>620</td>\n",
       "    </tr>\n",
       "    <tr>\n",
       "      <th>OUT049</th>\n",
       "      <td>620</td>\n",
       "    </tr>\n",
       "  </tbody>\n",
       "</table>\n",
       "</div>"
      ],
      "text/plain": [
       "                   Outlet_Size\n",
       "Outlet_Identifier             \n",
       "OUT010                      96\n",
       "OUT013                     621\n",
       "OUT017                     176\n",
       "OUT018                     618\n",
       "OUT019                     352\n",
       "OUT027                     624\n",
       "OUT035                     620\n",
       "OUT045                     176\n",
       "OUT046                     620\n",
       "OUT049                     620"
      ]
     },
     "execution_count": 140,
     "metadata": {},
     "output_type": "execute_result"
    }
   ],
   "source": [
    "test[['Outlet_Size', 'Outlet_Identifier']].groupby(['Outlet_Identifier']).count()"
   ]
  },
  {
   "cell_type": "markdown",
   "id": "4c05c678",
   "metadata": {},
   "source": [
    "Standarizing Fat content feature"
   ]
  },
  {
   "cell_type": "code",
   "execution_count": 141,
   "id": "1eaac9c2",
   "metadata": {},
   "outputs": [
    {
     "data": {
      "text/plain": [
       "array(['Low Fat', 'Regular', 'low fat', 'LF', 'reg'], dtype=object)"
      ]
     },
     "execution_count": 141,
     "metadata": {},
     "output_type": "execute_result"
    }
   ],
   "source": [
    "train['Item_Fat_Content'].unique()"
   ]
  },
  {
   "cell_type": "code",
   "execution_count": 142,
   "id": "a61afed9",
   "metadata": {},
   "outputs": [
    {
     "data": {
      "text/plain": [
       "array(['Low Fat', 'reg', 'Regular', 'LF', 'low fat'], dtype=object)"
      ]
     },
     "execution_count": 142,
     "metadata": {},
     "output_type": "execute_result"
    }
   ],
   "source": [
    "test['Item_Fat_Content'].unique()"
   ]
  },
  {
   "cell_type": "code",
   "execution_count": 143,
   "id": "4bc1af4d",
   "metadata": {},
   "outputs": [],
   "source": [
    "train.loc[train['Item_Fat_Content'] == 'Low Fat','Item_Fat_Content'] = 'LF'\n",
    "train.loc[train['Item_Fat_Content'] == 'low fat','Item_Fat_Content'] = 'LF'\n",
    "train.loc[train['Item_Fat_Content'] == 'Regular','Item_Fat_Content'] = 'reg'\n"
   ]
  },
  {
   "cell_type": "code",
   "execution_count": 144,
   "id": "c9749add",
   "metadata": {},
   "outputs": [
    {
     "data": {
      "text/plain": [
       "array(['LF', 'reg'], dtype=object)"
      ]
     },
     "execution_count": 144,
     "metadata": {},
     "output_type": "execute_result"
    }
   ],
   "source": [
    "train['Item_Fat_Content'].unique()"
   ]
  },
  {
   "cell_type": "code",
   "execution_count": 145,
   "id": "f90ba347",
   "metadata": {},
   "outputs": [],
   "source": [
    "test.loc[test['Item_Fat_Content'] == 'Low Fat','Item_Fat_Content'] = 'LF'\n",
    "test.loc[test['Item_Fat_Content'] == 'low fat','Item_Fat_Content'] = 'LF'\n",
    "test.loc[test['Item_Fat_Content'] == 'Regular','Item_Fat_Content'] = 'reg'"
   ]
  },
  {
   "cell_type": "code",
   "execution_count": 146,
   "id": "8d8e85c4",
   "metadata": {},
   "outputs": [
    {
     "data": {
      "text/plain": [
       "array(['LF', 'reg'], dtype=object)"
      ]
     },
     "execution_count": 146,
     "metadata": {},
     "output_type": "execute_result"
    }
   ],
   "source": [
    "test['Item_Fat_Content'].unique()"
   ]
  },
  {
   "cell_type": "markdown",
   "id": "ec648347",
   "metadata": {},
   "source": [
    "Handled Item fat content column "
   ]
  },
  {
   "cell_type": "code",
   "execution_count": 147,
   "id": "565b4fa3",
   "metadata": {},
   "outputs": [
    {
     "data": {
      "text/html": [
       "<div>\n",
       "<style scoped>\n",
       "    .dataframe tbody tr th:only-of-type {\n",
       "        vertical-align: middle;\n",
       "    }\n",
       "\n",
       "    .dataframe tbody tr th {\n",
       "        vertical-align: top;\n",
       "    }\n",
       "\n",
       "    .dataframe thead th {\n",
       "        text-align: right;\n",
       "    }\n",
       "</style>\n",
       "<table border=\"1\" class=\"dataframe\">\n",
       "  <thead>\n",
       "    <tr style=\"text-align: right;\">\n",
       "      <th></th>\n",
       "      <th>Item_Identifier</th>\n",
       "      <th>Item_Weight</th>\n",
       "      <th>Item_Fat_Content</th>\n",
       "      <th>Item_Visibility</th>\n",
       "      <th>Item_Type</th>\n",
       "      <th>Item_MRP</th>\n",
       "      <th>Outlet_Identifier</th>\n",
       "      <th>Outlet_Establishment_Year</th>\n",
       "      <th>Outlet_Size</th>\n",
       "      <th>Outlet_Location_Type</th>\n",
       "      <th>Outlet_Type</th>\n",
       "      <th>Item_Outlet_Sales</th>\n",
       "    </tr>\n",
       "  </thead>\n",
       "  <tbody>\n",
       "    <tr>\n",
       "      <th>0</th>\n",
       "      <td>FDA15</td>\n",
       "      <td>9.30</td>\n",
       "      <td>LF</td>\n",
       "      <td>0.016047</td>\n",
       "      <td>Dairy</td>\n",
       "      <td>249.8092</td>\n",
       "      <td>OUT049</td>\n",
       "      <td>1999</td>\n",
       "      <td>Medium</td>\n",
       "      <td>Tier 1</td>\n",
       "      <td>Supermarket Type1</td>\n",
       "      <td>3735.1380</td>\n",
       "    </tr>\n",
       "    <tr>\n",
       "      <th>1</th>\n",
       "      <td>DRC01</td>\n",
       "      <td>5.92</td>\n",
       "      <td>reg</td>\n",
       "      <td>0.019278</td>\n",
       "      <td>Soft Drinks</td>\n",
       "      <td>48.2692</td>\n",
       "      <td>OUT018</td>\n",
       "      <td>2009</td>\n",
       "      <td>Medium</td>\n",
       "      <td>Tier 3</td>\n",
       "      <td>Supermarket Type2</td>\n",
       "      <td>443.4228</td>\n",
       "    </tr>\n",
       "    <tr>\n",
       "      <th>2</th>\n",
       "      <td>FDN15</td>\n",
       "      <td>17.50</td>\n",
       "      <td>LF</td>\n",
       "      <td>0.016760</td>\n",
       "      <td>Meat</td>\n",
       "      <td>141.6180</td>\n",
       "      <td>OUT049</td>\n",
       "      <td>1999</td>\n",
       "      <td>Medium</td>\n",
       "      <td>Tier 1</td>\n",
       "      <td>Supermarket Type1</td>\n",
       "      <td>2097.2700</td>\n",
       "    </tr>\n",
       "    <tr>\n",
       "      <th>3</th>\n",
       "      <td>FDX07</td>\n",
       "      <td>19.20</td>\n",
       "      <td>reg</td>\n",
       "      <td>0.000000</td>\n",
       "      <td>Fruits and Vegetables</td>\n",
       "      <td>182.0950</td>\n",
       "      <td>OUT010</td>\n",
       "      <td>1998</td>\n",
       "      <td>Small</td>\n",
       "      <td>Tier 3</td>\n",
       "      <td>Grocery Store</td>\n",
       "      <td>732.3800</td>\n",
       "    </tr>\n",
       "    <tr>\n",
       "      <th>4</th>\n",
       "      <td>NCD19</td>\n",
       "      <td>8.93</td>\n",
       "      <td>LF</td>\n",
       "      <td>0.000000</td>\n",
       "      <td>Household</td>\n",
       "      <td>53.8614</td>\n",
       "      <td>OUT013</td>\n",
       "      <td>1987</td>\n",
       "      <td>High</td>\n",
       "      <td>Tier 3</td>\n",
       "      <td>Supermarket Type1</td>\n",
       "      <td>994.7052</td>\n",
       "    </tr>\n",
       "  </tbody>\n",
       "</table>\n",
       "</div>"
      ],
      "text/plain": [
       "  Item_Identifier  Item_Weight Item_Fat_Content  Item_Visibility  \\\n",
       "0           FDA15         9.30               LF         0.016047   \n",
       "1           DRC01         5.92              reg         0.019278   \n",
       "2           FDN15        17.50               LF         0.016760   \n",
       "3           FDX07        19.20              reg         0.000000   \n",
       "4           NCD19         8.93               LF         0.000000   \n",
       "\n",
       "               Item_Type  Item_MRP Outlet_Identifier  \\\n",
       "0                  Dairy  249.8092            OUT049   \n",
       "1            Soft Drinks   48.2692            OUT018   \n",
       "2                   Meat  141.6180            OUT049   \n",
       "3  Fruits and Vegetables  182.0950            OUT010   \n",
       "4              Household   53.8614            OUT013   \n",
       "\n",
       "   Outlet_Establishment_Year Outlet_Size Outlet_Location_Type  \\\n",
       "0                       1999      Medium               Tier 1   \n",
       "1                       2009      Medium               Tier 3   \n",
       "2                       1999      Medium               Tier 1   \n",
       "3                       1998       Small               Tier 3   \n",
       "4                       1987        High               Tier 3   \n",
       "\n",
       "         Outlet_Type  Item_Outlet_Sales  \n",
       "0  Supermarket Type1          3735.1380  \n",
       "1  Supermarket Type2           443.4228  \n",
       "2  Supermarket Type1          2097.2700  \n",
       "3      Grocery Store           732.3800  \n",
       "4  Supermarket Type1           994.7052  "
      ]
     },
     "execution_count": 147,
     "metadata": {},
     "output_type": "execute_result"
    }
   ],
   "source": [
    "train.head(5)"
   ]
  },
  {
   "cell_type": "code",
   "execution_count": 148,
   "id": "bfee87d4",
   "metadata": {},
   "outputs": [
    {
     "data": {
      "text/html": [
       "<div>\n",
       "<style scoped>\n",
       "    .dataframe tbody tr th:only-of-type {\n",
       "        vertical-align: middle;\n",
       "    }\n",
       "\n",
       "    .dataframe tbody tr th {\n",
       "        vertical-align: top;\n",
       "    }\n",
       "\n",
       "    .dataframe thead th {\n",
       "        text-align: right;\n",
       "    }\n",
       "</style>\n",
       "<table border=\"1\" class=\"dataframe\">\n",
       "  <thead>\n",
       "    <tr style=\"text-align: right;\">\n",
       "      <th></th>\n",
       "      <th>Item_Weight</th>\n",
       "      <th>Item_Visibility</th>\n",
       "      <th>Item_MRP</th>\n",
       "      <th>Outlet_Establishment_Year</th>\n",
       "      <th>Item_Outlet_Sales</th>\n",
       "    </tr>\n",
       "  </thead>\n",
       "  <tbody>\n",
       "    <tr>\n",
       "      <th>Item_Weight</th>\n",
       "      <td>1.000000</td>\n",
       "      <td>-0.014048</td>\n",
       "      <td>0.027141</td>\n",
       "      <td>-0.011588</td>\n",
       "      <td>0.014123</td>\n",
       "    </tr>\n",
       "    <tr>\n",
       "      <th>Item_Visibility</th>\n",
       "      <td>-0.014048</td>\n",
       "      <td>1.000000</td>\n",
       "      <td>-0.001315</td>\n",
       "      <td>-0.074834</td>\n",
       "      <td>-0.128625</td>\n",
       "    </tr>\n",
       "    <tr>\n",
       "      <th>Item_MRP</th>\n",
       "      <td>0.027141</td>\n",
       "      <td>-0.001315</td>\n",
       "      <td>1.000000</td>\n",
       "      <td>0.005020</td>\n",
       "      <td>0.567574</td>\n",
       "    </tr>\n",
       "    <tr>\n",
       "      <th>Outlet_Establishment_Year</th>\n",
       "      <td>-0.011588</td>\n",
       "      <td>-0.074834</td>\n",
       "      <td>0.005020</td>\n",
       "      <td>1.000000</td>\n",
       "      <td>-0.049135</td>\n",
       "    </tr>\n",
       "    <tr>\n",
       "      <th>Item_Outlet_Sales</th>\n",
       "      <td>0.014123</td>\n",
       "      <td>-0.128625</td>\n",
       "      <td>0.567574</td>\n",
       "      <td>-0.049135</td>\n",
       "      <td>1.000000</td>\n",
       "    </tr>\n",
       "  </tbody>\n",
       "</table>\n",
       "</div>"
      ],
      "text/plain": [
       "                           Item_Weight  Item_Visibility  Item_MRP  \\\n",
       "Item_Weight                   1.000000        -0.014048  0.027141   \n",
       "Item_Visibility              -0.014048         1.000000 -0.001315   \n",
       "Item_MRP                      0.027141        -0.001315  1.000000   \n",
       "Outlet_Establishment_Year    -0.011588        -0.074834  0.005020   \n",
       "Item_Outlet_Sales             0.014123        -0.128625  0.567574   \n",
       "\n",
       "                           Outlet_Establishment_Year  Item_Outlet_Sales  \n",
       "Item_Weight                                -0.011588           0.014123  \n",
       "Item_Visibility                            -0.074834          -0.128625  \n",
       "Item_MRP                                    0.005020           0.567574  \n",
       "Outlet_Establishment_Year                   1.000000          -0.049135  \n",
       "Item_Outlet_Sales                          -0.049135           1.000000  "
      ]
     },
     "execution_count": 148,
     "metadata": {},
     "output_type": "execute_result"
    }
   ],
   "source": [
    "train_new = train\n",
    "train_new.head(5)\n",
    "train_new.dropna(axis=0)\n",
    "train_new.corr()"
   ]
  },
  {
   "cell_type": "markdown",
   "id": "dc545d04",
   "metadata": {},
   "source": [
    "We find that correlation of weight feature is very less hence we can safely ignore the item weight feature."
   ]
  },
  {
   "cell_type": "code",
   "execution_count": 149,
   "id": "5abc164c",
   "metadata": {},
   "outputs": [
    {
     "data": {
      "text/html": [
       "<div>\n",
       "<style scoped>\n",
       "    .dataframe tbody tr th:only-of-type {\n",
       "        vertical-align: middle;\n",
       "    }\n",
       "\n",
       "    .dataframe tbody tr th {\n",
       "        vertical-align: top;\n",
       "    }\n",
       "\n",
       "    .dataframe thead th {\n",
       "        text-align: right;\n",
       "    }\n",
       "</style>\n",
       "<table border=\"1\" class=\"dataframe\">\n",
       "  <thead>\n",
       "    <tr style=\"text-align: right;\">\n",
       "      <th></th>\n",
       "      <th>Item_Identifier</th>\n",
       "      <th>Item_Fat_Content</th>\n",
       "      <th>Item_Visibility</th>\n",
       "      <th>Item_Type</th>\n",
       "      <th>Item_MRP</th>\n",
       "      <th>Outlet_Identifier</th>\n",
       "      <th>Outlet_Establishment_Year</th>\n",
       "      <th>Outlet_Size</th>\n",
       "      <th>Outlet_Location_Type</th>\n",
       "      <th>Outlet_Type</th>\n",
       "      <th>Item_Outlet_Sales</th>\n",
       "    </tr>\n",
       "  </thead>\n",
       "  <tbody>\n",
       "    <tr>\n",
       "      <th>0</th>\n",
       "      <td>FDA15</td>\n",
       "      <td>LF</td>\n",
       "      <td>0.016047</td>\n",
       "      <td>Dairy</td>\n",
       "      <td>249.8092</td>\n",
       "      <td>OUT049</td>\n",
       "      <td>1999</td>\n",
       "      <td>Medium</td>\n",
       "      <td>Tier 1</td>\n",
       "      <td>Supermarket Type1</td>\n",
       "      <td>3735.1380</td>\n",
       "    </tr>\n",
       "    <tr>\n",
       "      <th>1</th>\n",
       "      <td>DRC01</td>\n",
       "      <td>reg</td>\n",
       "      <td>0.019278</td>\n",
       "      <td>Soft Drinks</td>\n",
       "      <td>48.2692</td>\n",
       "      <td>OUT018</td>\n",
       "      <td>2009</td>\n",
       "      <td>Medium</td>\n",
       "      <td>Tier 3</td>\n",
       "      <td>Supermarket Type2</td>\n",
       "      <td>443.4228</td>\n",
       "    </tr>\n",
       "    <tr>\n",
       "      <th>2</th>\n",
       "      <td>FDN15</td>\n",
       "      <td>LF</td>\n",
       "      <td>0.016760</td>\n",
       "      <td>Meat</td>\n",
       "      <td>141.6180</td>\n",
       "      <td>OUT049</td>\n",
       "      <td>1999</td>\n",
       "      <td>Medium</td>\n",
       "      <td>Tier 1</td>\n",
       "      <td>Supermarket Type1</td>\n",
       "      <td>2097.2700</td>\n",
       "    </tr>\n",
       "    <tr>\n",
       "      <th>3</th>\n",
       "      <td>FDX07</td>\n",
       "      <td>reg</td>\n",
       "      <td>0.000000</td>\n",
       "      <td>Fruits and Vegetables</td>\n",
       "      <td>182.0950</td>\n",
       "      <td>OUT010</td>\n",
       "      <td>1998</td>\n",
       "      <td>Small</td>\n",
       "      <td>Tier 3</td>\n",
       "      <td>Grocery Store</td>\n",
       "      <td>732.3800</td>\n",
       "    </tr>\n",
       "    <tr>\n",
       "      <th>4</th>\n",
       "      <td>NCD19</td>\n",
       "      <td>LF</td>\n",
       "      <td>0.000000</td>\n",
       "      <td>Household</td>\n",
       "      <td>53.8614</td>\n",
       "      <td>OUT013</td>\n",
       "      <td>1987</td>\n",
       "      <td>High</td>\n",
       "      <td>Tier 3</td>\n",
       "      <td>Supermarket Type1</td>\n",
       "      <td>994.7052</td>\n",
       "    </tr>\n",
       "  </tbody>\n",
       "</table>\n",
       "</div>"
      ],
      "text/plain": [
       "  Item_Identifier Item_Fat_Content  Item_Visibility              Item_Type  \\\n",
       "0           FDA15               LF         0.016047                  Dairy   \n",
       "1           DRC01              reg         0.019278            Soft Drinks   \n",
       "2           FDN15               LF         0.016760                   Meat   \n",
       "3           FDX07              reg         0.000000  Fruits and Vegetables   \n",
       "4           NCD19               LF         0.000000              Household   \n",
       "\n",
       "   Item_MRP Outlet_Identifier  Outlet_Establishment_Year Outlet_Size  \\\n",
       "0  249.8092            OUT049                       1999      Medium   \n",
       "1   48.2692            OUT018                       2009      Medium   \n",
       "2  141.6180            OUT049                       1999      Medium   \n",
       "3  182.0950            OUT010                       1998       Small   \n",
       "4   53.8614            OUT013                       1987        High   \n",
       "\n",
       "  Outlet_Location_Type        Outlet_Type  Item_Outlet_Sales  \n",
       "0               Tier 1  Supermarket Type1          3735.1380  \n",
       "1               Tier 3  Supermarket Type2           443.4228  \n",
       "2               Tier 1  Supermarket Type1          2097.2700  \n",
       "3               Tier 3      Grocery Store           732.3800  \n",
       "4               Tier 3  Supermarket Type1           994.7052  "
      ]
     },
     "execution_count": 149,
     "metadata": {},
     "output_type": "execute_result"
    }
   ],
   "source": [
    "train.drop('Item_Weight', axis=1, inplace=True)\n",
    "test.drop('Item_Weight', axis=1, inplace=True)\n",
    "train.head(5)"
   ]
  },
  {
   "cell_type": "code",
   "execution_count": 150,
   "id": "781e24bf",
   "metadata": {},
   "outputs": [
    {
     "data": {
      "text/plain": [
       "1559"
      ]
     },
     "execution_count": 150,
     "metadata": {},
     "output_type": "execute_result"
    }
   ],
   "source": [
    "train['Item_Identifier'].nunique()"
   ]
  },
  {
   "cell_type": "code",
   "execution_count": 151,
   "id": "2790b5dd",
   "metadata": {},
   "outputs": [
    {
     "data": {
      "text/plain": [
       "1543"
      ]
     },
     "execution_count": 151,
     "metadata": {},
     "output_type": "execute_result"
    }
   ],
   "source": [
    "test['Item_Identifier'].nunique()"
   ]
  },
  {
   "cell_type": "markdown",
   "id": "0c90df6a",
   "metadata": {},
   "source": [
    "The feature Item Identifier is not important from regression point of view as the column contains too many distinct values. "
   ]
  },
  {
   "cell_type": "code",
   "execution_count": 152,
   "id": "226064ee",
   "metadata": {},
   "outputs": [
    {
     "data": {
      "text/html": [
       "<div>\n",
       "<style scoped>\n",
       "    .dataframe tbody tr th:only-of-type {\n",
       "        vertical-align: middle;\n",
       "    }\n",
       "\n",
       "    .dataframe tbody tr th {\n",
       "        vertical-align: top;\n",
       "    }\n",
       "\n",
       "    .dataframe thead th {\n",
       "        text-align: right;\n",
       "    }\n",
       "</style>\n",
       "<table border=\"1\" class=\"dataframe\">\n",
       "  <thead>\n",
       "    <tr style=\"text-align: right;\">\n",
       "      <th></th>\n",
       "      <th>Item_Fat_Content</th>\n",
       "      <th>Item_Visibility</th>\n",
       "      <th>Item_Type</th>\n",
       "      <th>Item_MRP</th>\n",
       "      <th>Outlet_Identifier</th>\n",
       "      <th>Outlet_Establishment_Year</th>\n",
       "      <th>Outlet_Size</th>\n",
       "      <th>Outlet_Location_Type</th>\n",
       "      <th>Outlet_Type</th>\n",
       "      <th>Item_Outlet_Sales</th>\n",
       "    </tr>\n",
       "  </thead>\n",
       "  <tbody>\n",
       "    <tr>\n",
       "      <th>0</th>\n",
       "      <td>LF</td>\n",
       "      <td>0.016047</td>\n",
       "      <td>Dairy</td>\n",
       "      <td>249.8092</td>\n",
       "      <td>OUT049</td>\n",
       "      <td>1999</td>\n",
       "      <td>Medium</td>\n",
       "      <td>Tier 1</td>\n",
       "      <td>Supermarket Type1</td>\n",
       "      <td>3735.1380</td>\n",
       "    </tr>\n",
       "    <tr>\n",
       "      <th>1</th>\n",
       "      <td>reg</td>\n",
       "      <td>0.019278</td>\n",
       "      <td>Soft Drinks</td>\n",
       "      <td>48.2692</td>\n",
       "      <td>OUT018</td>\n",
       "      <td>2009</td>\n",
       "      <td>Medium</td>\n",
       "      <td>Tier 3</td>\n",
       "      <td>Supermarket Type2</td>\n",
       "      <td>443.4228</td>\n",
       "    </tr>\n",
       "    <tr>\n",
       "      <th>2</th>\n",
       "      <td>LF</td>\n",
       "      <td>0.016760</td>\n",
       "      <td>Meat</td>\n",
       "      <td>141.6180</td>\n",
       "      <td>OUT049</td>\n",
       "      <td>1999</td>\n",
       "      <td>Medium</td>\n",
       "      <td>Tier 1</td>\n",
       "      <td>Supermarket Type1</td>\n",
       "      <td>2097.2700</td>\n",
       "    </tr>\n",
       "    <tr>\n",
       "      <th>3</th>\n",
       "      <td>reg</td>\n",
       "      <td>0.000000</td>\n",
       "      <td>Fruits and Vegetables</td>\n",
       "      <td>182.0950</td>\n",
       "      <td>OUT010</td>\n",
       "      <td>1998</td>\n",
       "      <td>Small</td>\n",
       "      <td>Tier 3</td>\n",
       "      <td>Grocery Store</td>\n",
       "      <td>732.3800</td>\n",
       "    </tr>\n",
       "    <tr>\n",
       "      <th>4</th>\n",
       "      <td>LF</td>\n",
       "      <td>0.000000</td>\n",
       "      <td>Household</td>\n",
       "      <td>53.8614</td>\n",
       "      <td>OUT013</td>\n",
       "      <td>1987</td>\n",
       "      <td>High</td>\n",
       "      <td>Tier 3</td>\n",
       "      <td>Supermarket Type1</td>\n",
       "      <td>994.7052</td>\n",
       "    </tr>\n",
       "  </tbody>\n",
       "</table>\n",
       "</div>"
      ],
      "text/plain": [
       "  Item_Fat_Content  Item_Visibility              Item_Type  Item_MRP  \\\n",
       "0               LF         0.016047                  Dairy  249.8092   \n",
       "1              reg         0.019278            Soft Drinks   48.2692   \n",
       "2               LF         0.016760                   Meat  141.6180   \n",
       "3              reg         0.000000  Fruits and Vegetables  182.0950   \n",
       "4               LF         0.000000              Household   53.8614   \n",
       "\n",
       "  Outlet_Identifier  Outlet_Establishment_Year Outlet_Size  \\\n",
       "0            OUT049                       1999      Medium   \n",
       "1            OUT018                       2009      Medium   \n",
       "2            OUT049                       1999      Medium   \n",
       "3            OUT010                       1998       Small   \n",
       "4            OUT013                       1987        High   \n",
       "\n",
       "  Outlet_Location_Type        Outlet_Type  Item_Outlet_Sales  \n",
       "0               Tier 1  Supermarket Type1          3735.1380  \n",
       "1               Tier 3  Supermarket Type2           443.4228  \n",
       "2               Tier 1  Supermarket Type1          2097.2700  \n",
       "3               Tier 3      Grocery Store           732.3800  \n",
       "4               Tier 3  Supermarket Type1           994.7052  "
      ]
     },
     "execution_count": 152,
     "metadata": {},
     "output_type": "execute_result"
    }
   ],
   "source": [
    "train.drop('Item_Identifier', axis=1, inplace=True)\n",
    "test.drop('Item_Identifier', axis=1, inplace=True)\n",
    "train.head(5)"
   ]
  },
  {
   "cell_type": "markdown",
   "id": "f75634d1",
   "metadata": {},
   "source": [
    "Feature scaling Item Visibility column : "
   ]
  },
  {
   "cell_type": "code",
   "execution_count": 153,
   "id": "36efa9da",
   "metadata": {},
   "outputs": [],
   "source": [
    "#train['Item_Visibility'] = train['Item_Visibility']*1000\n",
    "#train['Item_Visibility'].hist()"
   ]
  },
  {
   "cell_type": "code",
   "execution_count": 154,
   "id": "cc26e689",
   "metadata": {},
   "outputs": [],
   "source": [
    "#np.sqrt(train['Item_Visibility']).hist()"
   ]
  },
  {
   "cell_type": "markdown",
   "id": "474899c7",
   "metadata": {},
   "source": [
    "Smoothening Item_MRP Column :"
   ]
  },
  {
   "cell_type": "code",
   "execution_count": 155,
   "id": "6dee7f28",
   "metadata": {},
   "outputs": [],
   "source": [
    "#train['Item_MRP'].hist()"
   ]
  },
  {
   "cell_type": "code",
   "execution_count": 156,
   "id": "adc30e26",
   "metadata": {},
   "outputs": [],
   "source": [
    "#np.sqrt(train['Item_MRP']).hist()"
   ]
  },
  {
   "cell_type": "code",
   "execution_count": 157,
   "id": "b4cce27e",
   "metadata": {},
   "outputs": [],
   "source": [
    "train['years_till_date']=2022-train['Outlet_Establishment_Year']\n",
    "test['years_till_date']=2022-test['Outlet_Establishment_Year']"
   ]
  },
  {
   "cell_type": "code",
   "execution_count": 158,
   "id": "0f55af38",
   "metadata": {},
   "outputs": [
    {
     "data": {
      "text/html": [
       "<div>\n",
       "<style scoped>\n",
       "    .dataframe tbody tr th:only-of-type {\n",
       "        vertical-align: middle;\n",
       "    }\n",
       "\n",
       "    .dataframe tbody tr th {\n",
       "        vertical-align: top;\n",
       "    }\n",
       "\n",
       "    .dataframe thead th {\n",
       "        text-align: right;\n",
       "    }\n",
       "</style>\n",
       "<table border=\"1\" class=\"dataframe\">\n",
       "  <thead>\n",
       "    <tr style=\"text-align: right;\">\n",
       "      <th></th>\n",
       "      <th>Item_Fat_Content</th>\n",
       "      <th>Item_Visibility</th>\n",
       "      <th>Item_Type</th>\n",
       "      <th>Item_MRP</th>\n",
       "      <th>Outlet_Identifier</th>\n",
       "      <th>Outlet_Size</th>\n",
       "      <th>Outlet_Location_Type</th>\n",
       "      <th>Outlet_Type</th>\n",
       "      <th>Item_Outlet_Sales</th>\n",
       "      <th>years_till_date</th>\n",
       "    </tr>\n",
       "  </thead>\n",
       "  <tbody>\n",
       "    <tr>\n",
       "      <th>0</th>\n",
       "      <td>LF</td>\n",
       "      <td>0.016047</td>\n",
       "      <td>Dairy</td>\n",
       "      <td>249.8092</td>\n",
       "      <td>OUT049</td>\n",
       "      <td>Medium</td>\n",
       "      <td>Tier 1</td>\n",
       "      <td>Supermarket Type1</td>\n",
       "      <td>3735.1380</td>\n",
       "      <td>23</td>\n",
       "    </tr>\n",
       "    <tr>\n",
       "      <th>1</th>\n",
       "      <td>reg</td>\n",
       "      <td>0.019278</td>\n",
       "      <td>Soft Drinks</td>\n",
       "      <td>48.2692</td>\n",
       "      <td>OUT018</td>\n",
       "      <td>Medium</td>\n",
       "      <td>Tier 3</td>\n",
       "      <td>Supermarket Type2</td>\n",
       "      <td>443.4228</td>\n",
       "      <td>13</td>\n",
       "    </tr>\n",
       "    <tr>\n",
       "      <th>2</th>\n",
       "      <td>LF</td>\n",
       "      <td>0.016760</td>\n",
       "      <td>Meat</td>\n",
       "      <td>141.6180</td>\n",
       "      <td>OUT049</td>\n",
       "      <td>Medium</td>\n",
       "      <td>Tier 1</td>\n",
       "      <td>Supermarket Type1</td>\n",
       "      <td>2097.2700</td>\n",
       "      <td>23</td>\n",
       "    </tr>\n",
       "    <tr>\n",
       "      <th>3</th>\n",
       "      <td>reg</td>\n",
       "      <td>0.000000</td>\n",
       "      <td>Fruits and Vegetables</td>\n",
       "      <td>182.0950</td>\n",
       "      <td>OUT010</td>\n",
       "      <td>Small</td>\n",
       "      <td>Tier 3</td>\n",
       "      <td>Grocery Store</td>\n",
       "      <td>732.3800</td>\n",
       "      <td>24</td>\n",
       "    </tr>\n",
       "    <tr>\n",
       "      <th>4</th>\n",
       "      <td>LF</td>\n",
       "      <td>0.000000</td>\n",
       "      <td>Household</td>\n",
       "      <td>53.8614</td>\n",
       "      <td>OUT013</td>\n",
       "      <td>High</td>\n",
       "      <td>Tier 3</td>\n",
       "      <td>Supermarket Type1</td>\n",
       "      <td>994.7052</td>\n",
       "      <td>35</td>\n",
       "    </tr>\n",
       "  </tbody>\n",
       "</table>\n",
       "</div>"
      ],
      "text/plain": [
       "  Item_Fat_Content  Item_Visibility              Item_Type  Item_MRP  \\\n",
       "0               LF         0.016047                  Dairy  249.8092   \n",
       "1              reg         0.019278            Soft Drinks   48.2692   \n",
       "2               LF         0.016760                   Meat  141.6180   \n",
       "3              reg         0.000000  Fruits and Vegetables  182.0950   \n",
       "4               LF         0.000000              Household   53.8614   \n",
       "\n",
       "  Outlet_Identifier Outlet_Size Outlet_Location_Type        Outlet_Type  \\\n",
       "0            OUT049      Medium               Tier 1  Supermarket Type1   \n",
       "1            OUT018      Medium               Tier 3  Supermarket Type2   \n",
       "2            OUT049      Medium               Tier 1  Supermarket Type1   \n",
       "3            OUT010       Small               Tier 3      Grocery Store   \n",
       "4            OUT013        High               Tier 3  Supermarket Type1   \n",
       "\n",
       "   Item_Outlet_Sales  years_till_date  \n",
       "0          3735.1380               23  \n",
       "1           443.4228               13  \n",
       "2          2097.2700               23  \n",
       "3           732.3800               24  \n",
       "4           994.7052               35  "
      ]
     },
     "execution_count": 158,
     "metadata": {},
     "output_type": "execute_result"
    }
   ],
   "source": [
    "train.drop('Outlet_Establishment_Year', axis=1, inplace=True)\n",
    "test.drop('Outlet_Establishment_Year', axis=1, inplace=True)\n",
    "train.head(5)"
   ]
  },
  {
   "cell_type": "code",
   "execution_count": 159,
   "id": "9a121e2f",
   "metadata": {},
   "outputs": [
    {
     "data": {
      "text/plain": [
       "Item_Fat_Content         object\n",
       "Item_Visibility         float64\n",
       "Item_Type                object\n",
       "Item_MRP                float64\n",
       "Outlet_Identifier        object\n",
       "Outlet_Size              object\n",
       "Outlet_Location_Type     object\n",
       "Outlet_Type              object\n",
       "Item_Outlet_Sales       float64\n",
       "years_till_date           int64\n",
       "dtype: object"
      ]
     },
     "execution_count": 159,
     "metadata": {},
     "output_type": "execute_result"
    }
   ],
   "source": [
    "train.dtypes"
   ]
  },
  {
   "cell_type": "code",
   "execution_count": 160,
   "id": "f6159cc5",
   "metadata": {},
   "outputs": [
    {
     "data": {
      "text/plain": [
       "Item_Fat_Content         object\n",
       "Item_Visibility         float64\n",
       "Item_Type                object\n",
       "Item_MRP                float64\n",
       "Outlet_Identifier        object\n",
       "Outlet_Size              object\n",
       "Outlet_Location_Type     object\n",
       "Outlet_Type              object\n",
       "years_till_date           int64\n",
       "dtype: object"
      ]
     },
     "execution_count": 160,
     "metadata": {},
     "output_type": "execute_result"
    }
   ],
   "source": [
    "test.dtypes"
   ]
  },
  {
   "cell_type": "code",
   "execution_count": 161,
   "id": "252a80c4",
   "metadata": {},
   "outputs": [],
   "source": [
    "# Label Encoding\n",
    "columns = [i for i in train.columns if train[i].dtypes == 'object']\n",
    "\n",
    "def LE(train,test):\n",
    "    le = LabelEncoder()\n",
    "    for col in train.columns:\n",
    "        if train[col].dtypes == 'object':\n",
    "            train[col] = le.fit_transform(train[col])\n",
    "            le_dict = dict(zip(le.classes_, le.transform(le.classes_)))\n",
    "            test[col] = test[col].apply(lambda x: le_dict.get(x, -1))\n",
    "    return train, test\n",
    "    #return train\n",
    "train_df, test_df = LE(train, test)\n",
    "#train= LE(train)"
   ]
  },
  {
   "cell_type": "code",
   "execution_count": 162,
   "id": "9868db15",
   "metadata": {},
   "outputs": [
    {
     "data": {
      "text/html": [
       "<div>\n",
       "<style scoped>\n",
       "    .dataframe tbody tr th:only-of-type {\n",
       "        vertical-align: middle;\n",
       "    }\n",
       "\n",
       "    .dataframe tbody tr th {\n",
       "        vertical-align: top;\n",
       "    }\n",
       "\n",
       "    .dataframe thead th {\n",
       "        text-align: right;\n",
       "    }\n",
       "</style>\n",
       "<table border=\"1\" class=\"dataframe\">\n",
       "  <thead>\n",
       "    <tr style=\"text-align: right;\">\n",
       "      <th></th>\n",
       "      <th>Item_Fat_Content</th>\n",
       "      <th>Item_Visibility</th>\n",
       "      <th>Item_Type</th>\n",
       "      <th>Item_MRP</th>\n",
       "      <th>Outlet_Identifier</th>\n",
       "      <th>Outlet_Size</th>\n",
       "      <th>Outlet_Location_Type</th>\n",
       "      <th>Outlet_Type</th>\n",
       "      <th>Item_Outlet_Sales</th>\n",
       "      <th>years_till_date</th>\n",
       "    </tr>\n",
       "  </thead>\n",
       "  <tbody>\n",
       "    <tr>\n",
       "      <th>0</th>\n",
       "      <td>0</td>\n",
       "      <td>0.016047</td>\n",
       "      <td>4</td>\n",
       "      <td>249.8092</td>\n",
       "      <td>9</td>\n",
       "      <td>1</td>\n",
       "      <td>0</td>\n",
       "      <td>1</td>\n",
       "      <td>3735.1380</td>\n",
       "      <td>23</td>\n",
       "    </tr>\n",
       "    <tr>\n",
       "      <th>1</th>\n",
       "      <td>1</td>\n",
       "      <td>0.019278</td>\n",
       "      <td>14</td>\n",
       "      <td>48.2692</td>\n",
       "      <td>3</td>\n",
       "      <td>1</td>\n",
       "      <td>2</td>\n",
       "      <td>2</td>\n",
       "      <td>443.4228</td>\n",
       "      <td>13</td>\n",
       "    </tr>\n",
       "    <tr>\n",
       "      <th>2</th>\n",
       "      <td>0</td>\n",
       "      <td>0.016760</td>\n",
       "      <td>10</td>\n",
       "      <td>141.6180</td>\n",
       "      <td>9</td>\n",
       "      <td>1</td>\n",
       "      <td>0</td>\n",
       "      <td>1</td>\n",
       "      <td>2097.2700</td>\n",
       "      <td>23</td>\n",
       "    </tr>\n",
       "    <tr>\n",
       "      <th>3</th>\n",
       "      <td>1</td>\n",
       "      <td>0.000000</td>\n",
       "      <td>6</td>\n",
       "      <td>182.0950</td>\n",
       "      <td>0</td>\n",
       "      <td>2</td>\n",
       "      <td>2</td>\n",
       "      <td>0</td>\n",
       "      <td>732.3800</td>\n",
       "      <td>24</td>\n",
       "    </tr>\n",
       "    <tr>\n",
       "      <th>4</th>\n",
       "      <td>0</td>\n",
       "      <td>0.000000</td>\n",
       "      <td>9</td>\n",
       "      <td>53.8614</td>\n",
       "      <td>1</td>\n",
       "      <td>0</td>\n",
       "      <td>2</td>\n",
       "      <td>1</td>\n",
       "      <td>994.7052</td>\n",
       "      <td>35</td>\n",
       "    </tr>\n",
       "  </tbody>\n",
       "</table>\n",
       "</div>"
      ],
      "text/plain": [
       "   Item_Fat_Content  Item_Visibility  Item_Type  Item_MRP  Outlet_Identifier  \\\n",
       "0                 0         0.016047          4  249.8092                  9   \n",
       "1                 1         0.019278         14   48.2692                  3   \n",
       "2                 0         0.016760         10  141.6180                  9   \n",
       "3                 1         0.000000          6  182.0950                  0   \n",
       "4                 0         0.000000          9   53.8614                  1   \n",
       "\n",
       "   Outlet_Size  Outlet_Location_Type  Outlet_Type  Item_Outlet_Sales  \\\n",
       "0            1                     0            1          3735.1380   \n",
       "1            1                     2            2           443.4228   \n",
       "2            1                     0            1          2097.2700   \n",
       "3            2                     2            0           732.3800   \n",
       "4            0                     2            1           994.7052   \n",
       "\n",
       "   years_till_date  \n",
       "0               23  \n",
       "1               13  \n",
       "2               23  \n",
       "3               24  \n",
       "4               35  "
      ]
     },
     "execution_count": 162,
     "metadata": {},
     "output_type": "execute_result"
    }
   ],
   "source": [
    "train.head(5)"
   ]
  },
  {
   "cell_type": "code",
   "execution_count": 163,
   "id": "eb0958c2",
   "metadata": {},
   "outputs": [
    {
     "data": {
      "text/html": [
       "<div>\n",
       "<style scoped>\n",
       "    .dataframe tbody tr th:only-of-type {\n",
       "        vertical-align: middle;\n",
       "    }\n",
       "\n",
       "    .dataframe tbody tr th {\n",
       "        vertical-align: top;\n",
       "    }\n",
       "\n",
       "    .dataframe thead th {\n",
       "        text-align: right;\n",
       "    }\n",
       "</style>\n",
       "<table border=\"1\" class=\"dataframe\">\n",
       "  <thead>\n",
       "    <tr style=\"text-align: right;\">\n",
       "      <th></th>\n",
       "      <th>Item_Fat_Content</th>\n",
       "      <th>Item_Visibility</th>\n",
       "      <th>Item_Type</th>\n",
       "      <th>Item_MRP</th>\n",
       "      <th>Outlet_Identifier</th>\n",
       "      <th>Outlet_Size</th>\n",
       "      <th>Outlet_Location_Type</th>\n",
       "      <th>Outlet_Type</th>\n",
       "      <th>years_till_date</th>\n",
       "    </tr>\n",
       "  </thead>\n",
       "  <tbody>\n",
       "    <tr>\n",
       "      <th>0</th>\n",
       "      <td>0</td>\n",
       "      <td>0.007565</td>\n",
       "      <td>13</td>\n",
       "      <td>107.8622</td>\n",
       "      <td>9</td>\n",
       "      <td>1</td>\n",
       "      <td>0</td>\n",
       "      <td>1</td>\n",
       "      <td>23</td>\n",
       "    </tr>\n",
       "    <tr>\n",
       "      <th>1</th>\n",
       "      <td>1</td>\n",
       "      <td>0.038428</td>\n",
       "      <td>4</td>\n",
       "      <td>87.3198</td>\n",
       "      <td>2</td>\n",
       "      <td>-1</td>\n",
       "      <td>1</td>\n",
       "      <td>1</td>\n",
       "      <td>15</td>\n",
       "    </tr>\n",
       "    <tr>\n",
       "      <th>2</th>\n",
       "      <td>0</td>\n",
       "      <td>0.099575</td>\n",
       "      <td>11</td>\n",
       "      <td>241.7538</td>\n",
       "      <td>0</td>\n",
       "      <td>-1</td>\n",
       "      <td>2</td>\n",
       "      <td>0</td>\n",
       "      <td>24</td>\n",
       "    </tr>\n",
       "    <tr>\n",
       "      <th>3</th>\n",
       "      <td>0</td>\n",
       "      <td>0.015388</td>\n",
       "      <td>13</td>\n",
       "      <td>155.0340</td>\n",
       "      <td>2</td>\n",
       "      <td>2</td>\n",
       "      <td>1</td>\n",
       "      <td>1</td>\n",
       "      <td>15</td>\n",
       "    </tr>\n",
       "    <tr>\n",
       "      <th>4</th>\n",
       "      <td>1</td>\n",
       "      <td>0.118599</td>\n",
       "      <td>4</td>\n",
       "      <td>234.2300</td>\n",
       "      <td>5</td>\n",
       "      <td>1</td>\n",
       "      <td>2</td>\n",
       "      <td>3</td>\n",
       "      <td>37</td>\n",
       "    </tr>\n",
       "  </tbody>\n",
       "</table>\n",
       "</div>"
      ],
      "text/plain": [
       "   Item_Fat_Content  Item_Visibility  Item_Type  Item_MRP  Outlet_Identifier  \\\n",
       "0                 0         0.007565         13  107.8622                  9   \n",
       "1                 1         0.038428          4   87.3198                  2   \n",
       "2                 0         0.099575         11  241.7538                  0   \n",
       "3                 0         0.015388         13  155.0340                  2   \n",
       "4                 1         0.118599          4  234.2300                  5   \n",
       "\n",
       "   Outlet_Size  Outlet_Location_Type  Outlet_Type  years_till_date  \n",
       "0            1                     0            1               23  \n",
       "1           -1                     1            1               15  \n",
       "2           -1                     2            0               24  \n",
       "3            2                     1            1               15  \n",
       "4            1                     2            3               37  "
      ]
     },
     "execution_count": 163,
     "metadata": {},
     "output_type": "execute_result"
    }
   ],
   "source": [
    "test.head(5)"
   ]
  },
  {
   "cell_type": "code",
   "execution_count": 164,
   "id": "97cea660",
   "metadata": {},
   "outputs": [
    {
     "data": {
      "text/plain": [
       "Item_Fat_Content          int32\n",
       "Item_Visibility         float64\n",
       "Item_Type                 int32\n",
       "Item_MRP                float64\n",
       "Outlet_Identifier         int32\n",
       "Outlet_Size               int32\n",
       "Outlet_Location_Type      int32\n",
       "Outlet_Type               int32\n",
       "Item_Outlet_Sales       float64\n",
       "years_till_date           int64\n",
       "dtype: object"
      ]
     },
     "execution_count": 164,
     "metadata": {},
     "output_type": "execute_result"
    }
   ],
   "source": [
    "train.dtypes"
   ]
  },
  {
   "cell_type": "code",
   "execution_count": 165,
   "id": "b96e0bd9",
   "metadata": {},
   "outputs": [
    {
     "data": {
      "text/plain": [
       "Item_Fat_Content          int32\n",
       "Item_Visibility         float64\n",
       "Item_Type                 int32\n",
       "Item_MRP                float64\n",
       "Outlet_Identifier         int32\n",
       "Outlet_Size               int64\n",
       "Outlet_Location_Type      int32\n",
       "Outlet_Type               int32\n",
       "years_till_date           int64\n",
       "dtype: object"
      ]
     },
     "execution_count": 165,
     "metadata": {},
     "output_type": "execute_result"
    }
   ],
   "source": [
    "test.dtypes"
   ]
  },
  {
   "cell_type": "code",
   "execution_count": 166,
   "id": "7e78a2c3",
   "metadata": {},
   "outputs": [
    {
     "data": {
      "text/html": [
       "<div>\n",
       "<style scoped>\n",
       "    .dataframe tbody tr th:only-of-type {\n",
       "        vertical-align: middle;\n",
       "    }\n",
       "\n",
       "    .dataframe tbody tr th {\n",
       "        vertical-align: top;\n",
       "    }\n",
       "\n",
       "    .dataframe thead th {\n",
       "        text-align: right;\n",
       "    }\n",
       "</style>\n",
       "<table border=\"1\" class=\"dataframe\">\n",
       "  <thead>\n",
       "    <tr style=\"text-align: right;\">\n",
       "      <th></th>\n",
       "      <th>Item_Fat_Content</th>\n",
       "      <th>Item_Visibility</th>\n",
       "      <th>Item_Type</th>\n",
       "      <th>Item_MRP</th>\n",
       "      <th>Outlet_Identifier</th>\n",
       "      <th>Outlet_Size</th>\n",
       "      <th>Outlet_Location_Type</th>\n",
       "      <th>Outlet_Type</th>\n",
       "      <th>Item_Outlet_Sales</th>\n",
       "      <th>years_till_date</th>\n",
       "    </tr>\n",
       "  </thead>\n",
       "  <tbody>\n",
       "    <tr>\n",
       "      <th>0</th>\n",
       "      <td>0.0</td>\n",
       "      <td>0.048866</td>\n",
       "      <td>0.266667</td>\n",
       "      <td>0.927507</td>\n",
       "      <td>1.000000</td>\n",
       "      <td>0.5</td>\n",
       "      <td>0.0</td>\n",
       "      <td>0.333333</td>\n",
       "      <td>0.283587</td>\n",
       "      <td>0.416667</td>\n",
       "    </tr>\n",
       "    <tr>\n",
       "      <th>1</th>\n",
       "      <td>1.0</td>\n",
       "      <td>0.058705</td>\n",
       "      <td>0.933333</td>\n",
       "      <td>0.072068</td>\n",
       "      <td>0.333333</td>\n",
       "      <td>0.5</td>\n",
       "      <td>1.0</td>\n",
       "      <td>0.666667</td>\n",
       "      <td>0.031419</td>\n",
       "      <td>0.000000</td>\n",
       "    </tr>\n",
       "    <tr>\n",
       "      <th>2</th>\n",
       "      <td>0.0</td>\n",
       "      <td>0.051037</td>\n",
       "      <td>0.666667</td>\n",
       "      <td>0.468288</td>\n",
       "      <td>1.000000</td>\n",
       "      <td>0.5</td>\n",
       "      <td>0.0</td>\n",
       "      <td>0.333333</td>\n",
       "      <td>0.158115</td>\n",
       "      <td>0.416667</td>\n",
       "    </tr>\n",
       "    <tr>\n",
       "      <th>3</th>\n",
       "      <td>1.0</td>\n",
       "      <td>0.000000</td>\n",
       "      <td>0.400000</td>\n",
       "      <td>0.640093</td>\n",
       "      <td>0.000000</td>\n",
       "      <td>1.0</td>\n",
       "      <td>1.0</td>\n",
       "      <td>0.000000</td>\n",
       "      <td>0.053555</td>\n",
       "      <td>0.458333</td>\n",
       "    </tr>\n",
       "    <tr>\n",
       "      <th>4</th>\n",
       "      <td>0.0</td>\n",
       "      <td>0.000000</td>\n",
       "      <td>0.600000</td>\n",
       "      <td>0.095805</td>\n",
       "      <td>0.111111</td>\n",
       "      <td>0.0</td>\n",
       "      <td>1.0</td>\n",
       "      <td>0.333333</td>\n",
       "      <td>0.073651</td>\n",
       "      <td>0.916667</td>\n",
       "    </tr>\n",
       "  </tbody>\n",
       "</table>\n",
       "</div>"
      ],
      "text/plain": [
       "   Item_Fat_Content  Item_Visibility  Item_Type  Item_MRP  Outlet_Identifier  \\\n",
       "0               0.0         0.048866   0.266667  0.927507           1.000000   \n",
       "1               1.0         0.058705   0.933333  0.072068           0.333333   \n",
       "2               0.0         0.051037   0.666667  0.468288           1.000000   \n",
       "3               1.0         0.000000   0.400000  0.640093           0.000000   \n",
       "4               0.0         0.000000   0.600000  0.095805           0.111111   \n",
       "\n",
       "   Outlet_Size  Outlet_Location_Type  Outlet_Type  Item_Outlet_Sales  \\\n",
       "0          0.5                   0.0     0.333333           0.283587   \n",
       "1          0.5                   1.0     0.666667           0.031419   \n",
       "2          0.5                   0.0     0.333333           0.158115   \n",
       "3          1.0                   1.0     0.000000           0.053555   \n",
       "4          0.0                   1.0     0.333333           0.073651   \n",
       "\n",
       "   years_till_date  \n",
       "0         0.416667  \n",
       "1         0.000000  \n",
       "2         0.416667  \n",
       "3         0.458333  \n",
       "4         0.916667  "
      ]
     },
     "execution_count": 166,
     "metadata": {},
     "output_type": "execute_result"
    }
   ],
   "source": [
    "from sklearn.preprocessing import MinMaxScaler\n",
    "\n",
    "scaler = MinMaxScaler()\n",
    "num_vars = ['Item_Fat_Content', 'Item_Visibility', 'Item_Type', 'Item_MRP', 'Outlet_Identifier','Outlet_Size','Outlet_Location_Type','Outlet_Type','Item_Outlet_Sales','years_till_date']\n",
    "train[num_vars] = scaler.fit_transform(train[num_vars])\n",
    "train.head(5)"
   ]
  },
  {
   "cell_type": "code",
   "execution_count": 167,
   "id": "d8a42abd",
   "metadata": {},
   "outputs": [
    {
     "data": {
      "text/html": [
       "<div>\n",
       "<style scoped>\n",
       "    .dataframe tbody tr th:only-of-type {\n",
       "        vertical-align: middle;\n",
       "    }\n",
       "\n",
       "    .dataframe tbody tr th {\n",
       "        vertical-align: top;\n",
       "    }\n",
       "\n",
       "    .dataframe thead th {\n",
       "        text-align: right;\n",
       "    }\n",
       "</style>\n",
       "<table border=\"1\" class=\"dataframe\">\n",
       "  <thead>\n",
       "    <tr style=\"text-align: right;\">\n",
       "      <th></th>\n",
       "      <th>Item_Fat_Content</th>\n",
       "      <th>Item_Visibility</th>\n",
       "      <th>Item_Type</th>\n",
       "      <th>Item_MRP</th>\n",
       "      <th>Outlet_Identifier</th>\n",
       "      <th>Outlet_Size</th>\n",
       "      <th>Outlet_Location_Type</th>\n",
       "      <th>Outlet_Type</th>\n",
       "      <th>years_till_date</th>\n",
       "    </tr>\n",
       "  </thead>\n",
       "  <tbody>\n",
       "    <tr>\n",
       "      <th>0</th>\n",
       "      <td>0.0</td>\n",
       "      <td>0.023374</td>\n",
       "      <td>0.866667</td>\n",
       "      <td>0.323413</td>\n",
       "      <td>1.000000</td>\n",
       "      <td>0.666667</td>\n",
       "      <td>0.0</td>\n",
       "      <td>0.333333</td>\n",
       "      <td>0.416667</td>\n",
       "    </tr>\n",
       "    <tr>\n",
       "      <th>1</th>\n",
       "      <td>1.0</td>\n",
       "      <td>0.118737</td>\n",
       "      <td>0.266667</td>\n",
       "      <td>0.235849</td>\n",
       "      <td>0.222222</td>\n",
       "      <td>0.000000</td>\n",
       "      <td>0.5</td>\n",
       "      <td>0.333333</td>\n",
       "      <td>0.083333</td>\n",
       "    </tr>\n",
       "    <tr>\n",
       "      <th>2</th>\n",
       "      <td>0.0</td>\n",
       "      <td>0.307674</td>\n",
       "      <td>0.733333</td>\n",
       "      <td>0.894140</td>\n",
       "      <td>0.000000</td>\n",
       "      <td>0.000000</td>\n",
       "      <td>1.0</td>\n",
       "      <td>0.000000</td>\n",
       "      <td>0.458333</td>\n",
       "    </tr>\n",
       "    <tr>\n",
       "      <th>3</th>\n",
       "      <td>0.0</td>\n",
       "      <td>0.047548</td>\n",
       "      <td>0.866667</td>\n",
       "      <td>0.524488</td>\n",
       "      <td>0.222222</td>\n",
       "      <td>1.000000</td>\n",
       "      <td>0.5</td>\n",
       "      <td>0.333333</td>\n",
       "      <td>0.083333</td>\n",
       "    </tr>\n",
       "    <tr>\n",
       "      <th>4</th>\n",
       "      <td>1.0</td>\n",
       "      <td>0.366458</td>\n",
       "      <td>0.266667</td>\n",
       "      <td>0.862069</td>\n",
       "      <td>0.555556</td>\n",
       "      <td>0.666667</td>\n",
       "      <td>1.0</td>\n",
       "      <td>1.000000</td>\n",
       "      <td>1.000000</td>\n",
       "    </tr>\n",
       "  </tbody>\n",
       "</table>\n",
       "</div>"
      ],
      "text/plain": [
       "   Item_Fat_Content  Item_Visibility  Item_Type  Item_MRP  Outlet_Identifier  \\\n",
       "0               0.0         0.023374   0.866667  0.323413           1.000000   \n",
       "1               1.0         0.118737   0.266667  0.235849           0.222222   \n",
       "2               0.0         0.307674   0.733333  0.894140           0.000000   \n",
       "3               0.0         0.047548   0.866667  0.524488           0.222222   \n",
       "4               1.0         0.366458   0.266667  0.862069           0.555556   \n",
       "\n",
       "   Outlet_Size  Outlet_Location_Type  Outlet_Type  years_till_date  \n",
       "0     0.666667                   0.0     0.333333         0.416667  \n",
       "1     0.000000                   0.5     0.333333         0.083333  \n",
       "2     0.000000                   1.0     0.000000         0.458333  \n",
       "3     1.000000                   0.5     0.333333         0.083333  \n",
       "4     0.666667                   1.0     1.000000         1.000000  "
      ]
     },
     "execution_count": 167,
     "metadata": {},
     "output_type": "execute_result"
    }
   ],
   "source": [
    "num_vars_test = ['Item_Fat_Content', 'Item_Visibility', 'Item_Type', 'Item_MRP', 'Outlet_Identifier','Outlet_Size','Outlet_Location_Type','Outlet_Type','years_till_date']\n",
    "test[num_vars_test] = scaler.fit_transform(test[num_vars_test])\n",
    "test.head(5)"
   ]
  },
  {
   "cell_type": "code",
   "execution_count": 168,
   "id": "7a0dc0f6",
   "metadata": {},
   "outputs": [],
   "source": [
    "train.to_csv(r'C:\\Users\\Meteora\\OneDrive\\Desktop\\iimr_sales_train_tmp_output.csv')"
   ]
  },
  {
   "cell_type": "code",
   "execution_count": 169,
   "id": "8e6eb122",
   "metadata": {},
   "outputs": [
    {
     "data": {
      "image/png": "[encoded data removed]",
      "text/plain": [
       "<Figure size 1440x1296 with 2 Axes>"
      ]
     },
     "metadata": {
      "needs_background": "light"
     },
     "output_type": "display_data"
    }
   ],
   "source": [
    "#corr_plot=train.corr()\n",
    "#corr_plot.style.background_gradient(cmap='coolwarm').set_precision(3)\n",
    "plt.figure(figsize = (20, 18))\n",
    "sns.heatmap(train.corr(), annot = True, cmap=\"YlGnBu\")\n",
    "plt.show()"
   ]
  },
  {
   "cell_type": "markdown",
   "id": "f9d4beb0",
   "metadata": {},
   "source": [
    "Plot Correlation"
   ]
  },
  {
   "cell_type": "code",
   "execution_count": 170,
   "id": "f98e5946",
   "metadata": {},
   "outputs": [
    {
     "data": {
      "text/plain": [
       "Outlet_Identifier     Outlet_Location_Type   -0.716176\n",
       "Outlet_Size           Outlet_Location_Type   -0.471283\n",
       "                      Outlet_Type            -0.346973\n",
       "Outlet_Identifier     Outlet_Size             0.307955\n",
       "Outlet_Type           Item_Outlet_Sales       0.401522\n",
       "Outlet_Location_Type  Outlet_Type             0.467219\n",
       "Item_MRP              Item_Outlet_Sales       0.567574\n",
       "Item_Fat_Content      Item_Fat_Content             NaN\n",
       "dtype: float64"
      ]
     },
     "execution_count": 170,
     "metadata": {},
     "output_type": "execute_result"
    }
   ],
   "source": [
    "def corrFilter(x: pd.DataFrame, bound: float):\n",
    "    xCorr = x.corr()\n",
    "    xFiltered = xCorr[((xCorr >= bound) | (xCorr <= -bound)) & (xCorr !=1.000)]\n",
    "    xFlattened = xFiltered.unstack().sort_values().drop_duplicates()\n",
    "    return xFlattened\n",
    "\n",
    "corrFilter(train, .3)"
   ]
  },
  {
   "cell_type": "code",
   "execution_count": 171,
   "id": "fc9d9492",
   "metadata": {},
   "outputs": [],
   "source": [
    "y_train = train.pop('Item_Outlet_Sales')\n",
    "X_train = train"
   ]
  },
  {
   "cell_type": "code",
   "execution_count": 172,
   "id": "f9ece4fe",
   "metadata": {},
   "outputs": [],
   "source": [
    "#RFE\n",
    "from sklearn.feature_selection import RFE\n",
    "from sklearn.linear_model import LinearRegression\n",
    "import statsmodels.api as sm \n",
    "#from statsmodels.api import add_constant\n",
    "#from statsmodel import sm\n",
    "from statsmodels.stats.outliers_influence import variance_inflation_factor\n",
    "from scipy.signal._signaltools import _centered"
   ]
  },
  {
   "cell_type": "code",
   "execution_count": 173,
   "id": "b59f9b8c",
   "metadata": {},
   "outputs": [
    {
     "data": {
      "text/plain": [
       "LinearRegression()"
      ]
     },
     "execution_count": 173,
     "metadata": {},
     "output_type": "execute_result"
    }
   ],
   "source": [
    "lm = LinearRegression()\n",
    "lm.fit(X_train,y_train)"
   ]
  },
  {
   "cell_type": "code",
   "execution_count": 174,
   "id": "40211a4a",
   "metadata": {},
   "outputs": [],
   "source": [
    "rfe = RFE(lm)\n",
    "rfe = rfe.fit(X_train, y_train)"
   ]
  },
  {
   "cell_type": "code",
   "execution_count": 175,
   "id": "6a09e77c",
   "metadata": {},
   "outputs": [
    {
     "data": {
      "text/plain": [
       "[('Item_Fat_Content', False, 4),\n",
       " ('Item_Visibility', False, 2),\n",
       " ('Item_Type', False, 5),\n",
       " ('Item_MRP', True, 1),\n",
       " ('Outlet_Identifier', True, 1),\n",
       " ('Outlet_Size', True, 1),\n",
       " ('Outlet_Location_Type', False, 3),\n",
       " ('Outlet_Type', True, 1),\n",
       " ('years_till_date', False, 6)]"
      ]
     },
     "execution_count": 175,
     "metadata": {},
     "output_type": "execute_result"
    }
   ],
   "source": [
    "list(zip(X_train.columns,rfe.support_,rfe.ranking_))"
   ]
  },
  {
   "cell_type": "code",
   "execution_count": 176,
   "id": "5459570d",
   "metadata": {},
   "outputs": [
    {
     "data": {
      "text/plain": [
       "Index(['Item_MRP', 'Outlet_Identifier', 'Outlet_Size', 'Outlet_Type'], dtype='object')"
      ]
     },
     "execution_count": 176,
     "metadata": {},
     "output_type": "execute_result"
    }
   ],
   "source": [
    "X_train.columns[rfe.support_]"
   ]
  },
  {
   "cell_type": "code",
   "execution_count": 177,
   "id": "c3a15e01",
   "metadata": {},
   "outputs": [
    {
     "data": {
      "text/html": [
       "<div>\n",
       "<style scoped>\n",
       "    .dataframe tbody tr th:only-of-type {\n",
       "        vertical-align: middle;\n",
       "    }\n",
       "\n",
       "    .dataframe tbody tr th {\n",
       "        vertical-align: top;\n",
       "    }\n",
       "\n",
       "    .dataframe thead th {\n",
       "        text-align: right;\n",
       "    }\n",
       "</style>\n",
       "<table border=\"1\" class=\"dataframe\">\n",
       "  <thead>\n",
       "    <tr style=\"text-align: right;\">\n",
       "      <th></th>\n",
       "      <th>Item_MRP</th>\n",
       "      <th>Outlet_Identifier</th>\n",
       "      <th>Outlet_Size</th>\n",
       "      <th>Outlet_Type</th>\n",
       "    </tr>\n",
       "  </thead>\n",
       "  <tbody>\n",
       "    <tr>\n",
       "      <th>0</th>\n",
       "      <td>0.927507</td>\n",
       "      <td>1.000000</td>\n",
       "      <td>0.5</td>\n",
       "      <td>0.333333</td>\n",
       "    </tr>\n",
       "    <tr>\n",
       "      <th>1</th>\n",
       "      <td>0.072068</td>\n",
       "      <td>0.333333</td>\n",
       "      <td>0.5</td>\n",
       "      <td>0.666667</td>\n",
       "    </tr>\n",
       "    <tr>\n",
       "      <th>2</th>\n",
       "      <td>0.468288</td>\n",
       "      <td>1.000000</td>\n",
       "      <td>0.5</td>\n",
       "      <td>0.333333</td>\n",
       "    </tr>\n",
       "    <tr>\n",
       "      <th>3</th>\n",
       "      <td>0.640093</td>\n",
       "      <td>0.000000</td>\n",
       "      <td>1.0</td>\n",
       "      <td>0.000000</td>\n",
       "    </tr>\n",
       "    <tr>\n",
       "      <th>4</th>\n",
       "      <td>0.095805</td>\n",
       "      <td>0.111111</td>\n",
       "      <td>0.0</td>\n",
       "      <td>0.333333</td>\n",
       "    </tr>\n",
       "  </tbody>\n",
       "</table>\n",
       "</div>"
      ],
      "text/plain": [
       "   Item_MRP  Outlet_Identifier  Outlet_Size  Outlet_Type\n",
       "0  0.927507           1.000000          0.5     0.333333\n",
       "1  0.072068           0.333333          0.5     0.666667\n",
       "2  0.468288           1.000000          0.5     0.333333\n",
       "3  0.640093           0.000000          1.0     0.000000\n",
       "4  0.095805           0.111111          0.0     0.333333"
      ]
     },
     "execution_count": 177,
     "metadata": {},
     "output_type": "execute_result"
    }
   ],
   "source": [
    "X_train_rfe = X_train[X_train.columns[rfe.support_]]\n",
    "X_train_rfe.head()"
   ]
  },
  {
   "cell_type": "code",
   "execution_count": 178,
   "id": "fce4bd53",
   "metadata": {},
   "outputs": [],
   "source": [
    "def build_model(X,y):\n",
    "    X = sm.add_constant(X) #Adding the constant\n",
    "    lm = sm.OLS(y,X).fit() # fitting the model\n",
    "    print(lm.summary()) # model summary\n",
    "    return X\n",
    "    \n",
    "def checkVIF(X):\n",
    "    vif = pd.DataFrame()\n",
    "    vif['Features'] = X.columns\n",
    "    vif['VIF'] = [variance_inflation_factor(X.values, i) for i in range(X.shape[1])]\n",
    "    vif['VIF'] = round(vif['VIF'], 2)\n",
    "    vif = vif.sort_values(by = \"VIF\", ascending = False)\n",
    "    return(vif)"
   ]
  },
  {
   "cell_type": "code",
   "execution_count": 179,
   "id": "27662e51",
   "metadata": {},
   "outputs": [
    {
     "name": "stdout",
     "output_type": "stream",
     "text": [
      "                            OLS Regression Results                            \n",
      "==============================================================================\n",
      "Dep. Variable:      Item_Outlet_Sales   R-squared:                       0.512\n",
      "Model:                            OLS   Adj. R-squared:                  0.511\n",
      "Method:                 Least Squares   F-statistic:                     2230.\n",
      "Date:                Sat, 16 Apr 2022   Prob (F-statistic):               0.00\n",
      "Time:                        11:38:30   Log-Likelihood:                 8301.2\n",
      "No. Observations:                8523   AIC:                        -1.659e+04\n",
      "Df Residuals:                    8518   BIC:                        -1.656e+04\n",
      "Df Model:                           4                                         \n",
      "Covariance Type:            nonrobust                                         \n",
      "=====================================================================================\n",
      "                        coef    std err          t      P>|t|      [0.025      0.975]\n",
      "-------------------------------------------------------------------------------------\n",
      "const                -0.0368      0.004    -10.046      0.000      -0.044      -0.030\n",
      "Item_MRP              0.2811      0.004     75.057      0.000       0.274       0.288\n",
      "Outlet_Identifier     0.0689      0.003     20.296      0.000       0.062       0.076\n",
      "Outlet_Size          -0.0534      0.004    -14.857      0.000      -0.060      -0.046\n",
      "Outlet_Type           0.1681      0.004     41.121      0.000       0.160       0.176\n",
      "==============================================================================\n",
      "Omnibus:                      890.685   Durbin-Watson:                   2.015\n",
      "Prob(Omnibus):                  0.000   Jarque-Bera (JB):             1896.420\n",
      "Skew:                           0.658   Prob(JB):                         0.00\n",
      "Kurtosis:                       4.899   Cond. No.                         8.10\n",
      "==============================================================================\n",
      "\n",
      "Notes:\n",
      "[1] Standard Errors assume that the covariance matrix of the errors is correctly specified.\n"
     ]
    }
   ],
   "source": [
    "\n",
    "X_train_new = build_model(X_train_rfe,y_train)"
   ]
  },
  {
   "cell_type": "code",
   "execution_count": 180,
   "id": "ac5eda89",
   "metadata": {},
   "outputs": [
    {
     "data": {
      "text/html": [
       "<div>\n",
       "<style scoped>\n",
       "    .dataframe tbody tr th:only-of-type {\n",
       "        vertical-align: middle;\n",
       "    }\n",
       "\n",
       "    .dataframe tbody tr th {\n",
       "        vertical-align: top;\n",
       "    }\n",
       "\n",
       "    .dataframe thead th {\n",
       "        text-align: right;\n",
       "    }\n",
       "</style>\n",
       "<table border=\"1\" class=\"dataframe\">\n",
       "  <thead>\n",
       "    <tr style=\"text-align: right;\">\n",
       "      <th></th>\n",
       "      <th>Features</th>\n",
       "      <th>VIF</th>\n",
       "    </tr>\n",
       "  </thead>\n",
       "  <tbody>\n",
       "    <tr>\n",
       "      <th>0</th>\n",
       "      <td>const</td>\n",
       "      <td>13.68</td>\n",
       "    </tr>\n",
       "    <tr>\n",
       "      <th>3</th>\n",
       "      <td>Outlet_Size</td>\n",
       "      <td>1.31</td>\n",
       "    </tr>\n",
       "    <tr>\n",
       "      <th>4</th>\n",
       "      <td>Outlet_Type</td>\n",
       "      <td>1.20</td>\n",
       "    </tr>\n",
       "    <tr>\n",
       "      <th>2</th>\n",
       "      <td>Outlet_Identifier</td>\n",
       "      <td>1.17</td>\n",
       "    </tr>\n",
       "    <tr>\n",
       "      <th>1</th>\n",
       "      <td>Item_MRP</td>\n",
       "      <td>1.00</td>\n",
       "    </tr>\n",
       "  </tbody>\n",
       "</table>\n",
       "</div>"
      ],
      "text/plain": [
       "            Features    VIF\n",
       "0              const  13.68\n",
       "3        Outlet_Size   1.31\n",
       "4        Outlet_Type   1.20\n",
       "2  Outlet_Identifier   1.17\n",
       "1           Item_MRP   1.00"
      ]
     },
     "execution_count": 180,
     "metadata": {},
     "output_type": "execute_result"
    }
   ],
   "source": [
    "#Calculating the Variance Inflation Factor\n",
    "checkVIF(X_train_new)"
   ]
  },
  {
   "cell_type": "code",
   "execution_count": 181,
   "id": "9f89ac09",
   "metadata": {},
   "outputs": [],
   "source": [
    "lm = sm.OLS(y_train,X_train_new).fit()\n",
    "y_train_price = lm.predict(X_train_new)"
   ]
  },
  {
   "cell_type": "code",
   "execution_count": 182,
   "id": "ae387fbd",
   "metadata": {},
   "outputs": [
    {
     "name": "stderr",
     "output_type": "stream",
     "text": [
      "C:\\Users\\Meteora\\anaconda3\\lib\\site-packages\\seaborn\\distributions.py:2619: FutureWarning: `distplot` is a deprecated function and will be removed in a future version. Please adapt your code to use either `displot` (a figure-level function with similar flexibility) or `histplot` (an axes-level function for histograms).\n",
      "  warnings.warn(msg, FutureWarning)\n"
     ]
    },
    {
     "data": {
      "text/plain": [
       "Text(0.5, 0, 'Errors')"
      ]
     },
     "execution_count": 182,
     "metadata": {},
     "output_type": "execute_result"
    },
    {
     "data": {
      "image/png": "[encoded data removed]",
      "text/plain": [
       "<Figure size 432x288 with 1 Axes>"
      ]
     },
     "metadata": {
      "needs_background": "light"
     },
     "output_type": "display_data"
    }
   ],
   "source": [
    "# Plot the histogram of the error terms\n",
    "fig = plt.figure()\n",
    "sns.distplot((y_train - y_train_price), bins = 20)\n",
    "fig.suptitle('Error Terms', fontsize = 20)                  # Plot heading \n",
    "plt.xlabel('Errors', fontsize = 18)  "
   ]
  },
  {
   "cell_type": "markdown",
   "id": "6a670eeb",
   "metadata": {},
   "source": [
    "Error terms seem to be approximately normally distributed, so the assumption on the linear modeling seems to be fulfilled."
   ]
  },
  {
   "cell_type": "markdown",
   "id": "86f6809f",
   "metadata": {},
   "source": [
    "Prediction and Evaluation"
   ]
  },
  {
   "cell_type": "code",
   "execution_count": 183,
   "id": "68e9a52c",
   "metadata": {},
   "outputs": [],
   "source": [
    "#Scaling the test set\n",
    "num_vars = ['Item_Type', 'Item_MRP', 'Outlet_Identifier','Outlet_Size']\n",
    "test[num_vars] = scaler.fit_transform(test[num_vars])"
   ]
  },
  {
   "cell_type": "code",
   "execution_count": 184,
   "id": "994ffee8",
   "metadata": {},
   "outputs": [],
   "source": [
    "# Now let's use our model to make predictions.\n",
    "X_train_new = X_train_new.drop('const',axis=1)\n",
    "# Creating X_test_new dataframe by dropping variables from X_test\n",
    "X_test_new = test[X_train_new.columns]\n",
    "\n",
    "# Adding a constant variable \n",
    "X_test_new = sm.add_constant(X_test_new)"
   ]
  },
  {
   "cell_type": "code",
   "execution_count": 185,
   "id": "24d1fb7b",
   "metadata": {},
   "outputs": [],
   "source": [
    "# Making predictions\n",
    "y_pred = lm.predict(X_test_new)"
   ]
  },
  {
   "cell_type": "code",
   "execution_count": 186,
   "id": "81ef59ae",
   "metadata": {},
   "outputs": [
    {
     "data": {
      "text/plain": [
       "0       0.143432\n",
       "1       0.100841\n",
       "2       0.214569\n",
       "3       0.128599\n",
       "4       0.376291\n",
       "          ...   \n",
       "5676    0.158072\n",
       "5677    0.226976\n",
       "5678    0.141167\n",
       "5679    0.253384\n",
       "5680    0.130085\n",
       "Length: 5681, dtype: float64"
      ]
     },
     "execution_count": 186,
     "metadata": {},
     "output_type": "execute_result"
    }
   ],
   "source": [
    "y_pred"
   ]
  },
  {
   "cell_type": "code",
   "execution_count": 187,
   "id": "925b53f3",
   "metadata": {},
   "outputs": [
    {
     "data": {
      "text/html": [
       "<div>\n",
       "<style scoped>\n",
       "    .dataframe tbody tr th:only-of-type {\n",
       "        vertical-align: middle;\n",
       "    }\n",
       "\n",
       "    .dataframe tbody tr th {\n",
       "        vertical-align: top;\n",
       "    }\n",
       "\n",
       "    .dataframe thead th {\n",
       "        text-align: right;\n",
       "    }\n",
       "</style>\n",
       "<table border=\"1\" class=\"dataframe\">\n",
       "  <thead>\n",
       "    <tr style=\"text-align: right;\">\n",
       "      <th></th>\n",
       "      <th>Sales_pred</th>\n",
       "    </tr>\n",
       "  </thead>\n",
       "  <tbody>\n",
       "    <tr>\n",
       "      <th>0</th>\n",
       "      <td>0.143432</td>\n",
       "    </tr>\n",
       "    <tr>\n",
       "      <th>1</th>\n",
       "      <td>0.100841</td>\n",
       "    </tr>\n",
       "    <tr>\n",
       "      <th>2</th>\n",
       "      <td>0.214569</td>\n",
       "    </tr>\n",
       "    <tr>\n",
       "      <th>3</th>\n",
       "      <td>0.128599</td>\n",
       "    </tr>\n",
       "    <tr>\n",
       "      <th>4</th>\n",
       "      <td>0.376291</td>\n",
       "    </tr>\n",
       "  </tbody>\n",
       "</table>\n",
       "</div>"
      ],
      "text/plain": [
       "   Sales_pred\n",
       "0    0.143432\n",
       "1    0.100841\n",
       "2    0.214569\n",
       "3    0.128599\n",
       "4    0.376291"
      ]
     },
     "execution_count": 187,
     "metadata": {},
     "output_type": "execute_result"
    }
   ],
   "source": [
    "df_tmp = pd.DataFrame(y_pred, columns = ['Sales_pred'])\n",
    "df_tmp.head(5)"
   ]
  },
  {
   "cell_type": "code",
   "execution_count": 188,
   "id": "0817442f",
   "metadata": {},
   "outputs": [],
   "source": [
    "df_tmp.to_csv(r'C:\\Users\\Meteora\\OneDrive\\Desktop\\iimr_sales_output.csv')"
   ]
  },
  {
   "cell_type": "code",
   "execution_count": null,
   "id": "0e3ed2d2",
   "metadata": {},
   "outputs": [],
   "source": []
  },
  {
   "cell_type": "code",
   "execution_count": null,
   "id": "386207e8",
   "metadata": {},
   "outputs": [],
   "source": []
  },
  {
   "cell_type": "code",
   "execution_count": null,
   "id": "00a981ea",
   "metadata": {},
   "outputs": [],
   "source": []
  }
 ],
 "metadata": {
  "kernelspec": {
   "display_name": "Python 3 (ipykernel)",
   "language": "python",
   "name": "python3"
  },
  "language_info": {
   "codemirror_mode": {
    "name": "ipython",
    "version": 3
   },
   "file_extension": ".py",
   "mimetype": "text/x-python",
   "name": "python",
   "nbconvert_exporter": "python",
   "pygments_lexer": "ipython3",
   "version": "3.9.7"
  }
 },
 "nbformat": 4,
 "nbformat_minor": 5
}
